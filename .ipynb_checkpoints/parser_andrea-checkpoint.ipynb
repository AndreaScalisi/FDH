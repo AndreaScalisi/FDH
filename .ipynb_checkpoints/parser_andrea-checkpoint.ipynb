{
 "cells": [
  {
   "cell_type": "code",
   "execution_count": 74,
   "metadata": {},
   "outputs": [],
   "source": [
    "import pandas as pd\n",
    "#import lxml.etree.ElementTree as ET\n",
    "from lxml import etree\n",
    "path = 'fdh-gallica/bpt6k205233j/alto/bpt6k205233j_038.xml'"
   ]
  },
  {
   "cell_type": "code",
   "execution_count": 104,
   "metadata": {
    "scrolled": true
   },
   "outputs": [
    {
     "name": "stdout",
     "output_type": "stream",
     "text": [
      "ABZ AGIT ABZAC (C\"\"1 Pauld'), 181, rue de La Pompe (xvi*). \n",
      "fACHER de MONTGASCON (B™ d') [et B\"\" née Jeanne de COURCY], 18, avenue d'Antin (vin\"),– et de Villequier, ES è53 [Q], Caudebec-en-Caux (Seine- Inférieure) ^= Villequier. \n",
      "ACHERY de SAN\" DONNINO (P\" d'), Ex-camérier secret, 62, avenue de la Grande-Armée (xvn*) et eJj de Soisy-sous-Montmorency, El Ji fi [S] Soisy-sous-Montmorency (Seine-et-Oise). \n",
      "ACHON (B°n Renéd'), Capitaine au l\"r chasseurs [et B™\" née de LAMOLÈRE, C\"– d'HUST], 124, rue de Provence (vin*), et ^5 de la Roche-de- Gennes, El Sf Gennes (Maine-et-Loire), gg [Or], Les Rosiers-sur-Loire. \n",
      "ACLOQUE (M™) née DUCHANOY, 26, avenue Mar- ceau (xvi*) – et j*5 de La Borde, Kl Saint-An- toiue-du-Rocher, j: (I au d N\" S), âï Wettray (Indre-et-Loire). \n",
      "ACLOQUE (M™ A.), née SEBERT, 9, place des Etats- Unis (xvi1)- [3698.92]. \n",
      "ACLOQUE (Maurice), 19, rue de Presbourg (xvi1) et villa Monténégro [3°. \n",
      "590], à Cannes (Alpes-Mari- times). AC-Y ACOLLAS (René), $(, Conseiller référendaire à la Cour des Cooptes [et Mme née de MOY], 29, avenue Friedland (vin-) [35 547.26] \n",
      "Acquasanta (d') voir de Narducci. ADAM (Achille), Député dit Pas-de-Calais, 21, avenue d'Antin (vin*) [3: 311.04] \n",
      "et 10, rue Victor-Hugo, à Boulogne-sur-Mer (Pas-de-Calais), -et « La Soli- tude », à Saint-Quentin-en-Tourniont, par Rue (Somme). \n",
      "AC-B-H-RR-UA ADAM (M- Achille), née VERBERKMOES – et & de Yerneuil, Kl tF & [Or] Veriieuil-sur-Indre (Indre-et-Loire). ADAM (M™' Eugène), 2 bis, rne de La Fiaume (vin0) [3- 520.00] et 21, rue de Conflans, à'Poissy, 3; (Seine-et-Oise). \n",
      "ADAM (Henri), mêmes adresses. AC ADAM (Mm* Hippolyte), 47 bis, rue Ampère (xvn\") [35 S25.33] \n",
      "et fa des Mazurettes, 13 fc= èS [Nj Boulogne (Pas-de-Calais). ADAM (M»« Léon) née JÉRÔME PICHON, 33, av. d'Antin (viir). \n",
      "ADAM (SI. et M\"\" Georges), 23, av. de Messine (vin') et 14, rue Circulaire, à Versailles. \n",
      "ADAM (Louis), Agent dechange [et M– née PIERRETJ 23, av. de Messine ivni\") (Bureaux: 48, rue de Pro- vence) (ix\") [3:136.13] \n",
      "– et fa deBrancas, s jj= l£ [0] Sèvres (Seine-et-Oise), -et villa Ellon, à Lion-sur-Mer (Calvados). \n",
      "ADAM (Juliette LAMBER) (M- Edmond), abbaye de Gif (Seine-et-Oise). ADAN (Emile), # [et M\"\"], 7S,r. de Courcelles (viu\")UA ADDA SALVATERRA (M\"« d'), 57, avenue Montaigne (vin-). \n",
      "ADELINE, née FAU (M™ Edmond), 31, rue Pierre- Charron (xvi«) et SA de Sérigny, si fè= â [Or] Cour-Cheverny (Loir-et-Cher). \n",
      "ADELINE (M- Raoul), née FROGER des CHESNES, pavillon de La Louetière, El ]s= ëH [Or] Cour- Chcverny (Loir-et-Cher). ADELIAE (Gaston) [et M™ née DELONDRE], 55, rue Pierre Charron (vin\") et de Moussonvilliers, S f^= S'-Maurice-les-Charençais, 5 kil. \n",
      "(Orne) g|i [0] La Ferté-Vidame (Eure-et-Loir). H-UA ADELON, née HAENTJEXS (M\" Henry), 24, rue de Courcelles (vin-) [3-317.00]. \n",
      "ADELON (Marcel), même adresse. ADELSWARD (B\" Axel d'), née WUHRER,20, rue Daru (vme) et à Nice. \n",
      "ADELSWARD (B\"\" Gustave d'), née de POURTALÈS 63, boulevard de Courcelles (vin\") [3= 508.32] \n",
      "et tfa du Plessis-Mornay, Kl Rochefort-en- Yveliues, 1f= [35 24], £g Donrdan (Seine-et-Oise). ADEMS de LA ROZERIE (A.-H), Conseiller Maître à la Cour des Comptes, 0. ij^, 3, rue de Monceau (vm°). \n",
      "ADHËMAR (Ct. d'), née MARIAKI, 33, rue Was- hington (vm«). \n",
      "ADHËMAR (Y\" Olivier d'), [etV– née VERDET] 86, rue de Varenne (vu*) – et éêù de Saint-Hubert, IS Sorgues-sur-l'Ouvéze (Vaucluse et fa de Teillan, E] Marsillargues (Hérault). \n",
      "ADHËMAR (Y\" Robert d'), à Lille (Nord). AFFRE de SAINT-ROME (C'°- Denis) [née de NOGA- RET], 147, rue de Rennes (vie) – et à Soisy-sous-Mont- morency, [S3 Jf= (Seine-et-Oise). \n",
      "AGACHE (Alfred), 14, rue Weber (xvi«). \n",
      "UA AGHIO.N (M. et M°\" Jules), 24, rue Clément-Marot, (vui«) [3=501.87]. \n",
      "CF Acneau (d') voir: CARPENTIER d'Ac^EAU. AGNEAUX (d') 'voir: de S\" MARIE d'Agneaux. AGNELLET (M. et M\"' Augustin), 50, av. Victor- Hugo (xvi*). \n",
      "AGNELLET (M11* Emma), 59, rue de Prony (xvn«) – etvillaàMenthon-Saint-Bernard, El ^= (Haute- Savoie), ^ï [P.-L.-M.] \n",
      "Annecy. AGXUS lEugène), 59, rue Chardon-Lagache (xvi*). \n",
      "AûON (la Générale M»' d'), née T1ERSONNIER, 78, avenue fleiiri-Ilartiii (xvi*) – et jêj de Sampange, Kl Nevers (Nièvre). \n",
      "AG0PIAN- PACHA (M»'), née KHORASSANDJl, 95, boulevard Malesherbes (vui\"). \n",
      "AGOPIAN-PACHA (L.), même adresse. Y AG0ILT (M\"d')[et M'-MiéedeMONTHICHAIU)], fa de Vandœuvre, IS Coulaus (Sarthe) tg [O|. Le Mans (Sarthe). AGOULT (C\" d'), ancien député [et C' née d'ESTAMPES], 19, boulevard de La Tour-Maubourg (vir) et – {Ss de Beauplan, si ^= H Voreppe (Isère). \n",
      "AGRAIN née de de LESPÉROUX, (M'\" d'), 63 bis, rue de Vareune (vu.) \n",
      "et fa de Bressey, IS Arc-sur-Tille 5 kil. (Côte-d'Or) â [P.-L.-M.J. d'Arc-sur-Tille et Magny. AGRAIN (C\" Jean d') [et C1\" née Geneviève BOliTlNY], mêmes adresses et villa St-V.illior \n"
     ]
    }
   ],
   "source": [
    "tree = etree.parse(path)\n",
    "root = tree.getroot()\n",
    "full_name = ''\n",
    "addr_found = False\n",
    "for elem in (root.findall(\".//{http://bibnum.bnf.fr/ns/alto_prod}TextLine\")):\n",
    "    for line in elem.findall(\".//{http://bibnum.bnf.fr/ns/alto_prod}String\"):\n",
    "        word = line.attrib['CONTENT']\n",
    "        full_name += word\n",
    "        full_name += ' '\n",
    "        if('.' in word and addr_found):\n",
    "            print(full_name)\n",
    "            full_name = ''\n",
    "            addr_found = False\n",
    "        if(is_address(word)):\n",
    "            addr_found = True\n",
    "        "
   ]
  },
  {
   "cell_type": "code",
   "execution_count": 101,
   "metadata": {},
   "outputs": [],
   "source": [
    "addr = ['avenue', 'av.', 'rue', 'r.', 'boulevard', 'b.', 'mêmes adresses', 'villa', 'place']\n",
    "def is_address(str):\n",
    "    return str in addr"
   ]
  },
  {
   "cell_type": "code",
   "execution_count": 105,
   "metadata": {},
   "outputs": [],
   "source": [
    "def is_family_name(str):\n",
    "    nb_up = 0\n",
    "    for c in str:\n",
    "        if(c.isupper()):\n",
    "            nb_up += 1\n",
    "    \n",
    "    return (nb_up/len(str) > 0.6)"
   ]
  },
  {
   "cell_type": "code",
   "execution_count": 111,
   "metadata": {},
   "outputs": [
    {
     "data": {
      "text/plain": [
       "True"
      ]
     },
     "execution_count": 111,
     "metadata": {},
     "output_type": "execute_result"
    }
   ],
   "source": [
    "is_family_name(\"ALBEReh\")"
   ]
  },
  {
   "cell_type": "code",
   "execution_count": null,
   "metadata": {},
   "outputs": [],
   "source": []
  }
 ],
 "metadata": {
  "kernelspec": {
   "display_name": "Python 3",
   "language": "python",
   "name": "python3"
  },
  "language_info": {
   "codemirror_mode": {
    "name": "ipython",
    "version": 3
   },
   "file_extension": ".py",
   "mimetype": "text/x-python",
   "name": "python",
   "nbconvert_exporter": "python",
   "pygments_lexer": "ipython3",
   "version": "3.7.3"
  }
 },
 "nbformat": 4,
 "nbformat_minor": 2
}
