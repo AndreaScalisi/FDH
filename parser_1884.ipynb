{
 "cells": [
  {
   "cell_type": "code",
   "execution_count": 1,
   "metadata": {},
   "outputs": [],
   "source": [
    "import pandas as pd\n",
    "import re\n",
    "from collections import Counter"
   ]
  },
  {
   "cell_type": "markdown",
   "metadata": {},
   "source": [
    "**Utility functions**"
   ]
  },
  {
   "cell_type": "code",
   "execution_count": 2,
   "metadata": {},
   "outputs": [],
   "source": [
    "#Function to get the number of elements\n",
    "def count_elmt(df):\n",
    "    return len(df.index)"
   ]
  },
  {
   "cell_type": "markdown",
   "metadata": {},
   "source": [
    "**Loading the data from the 1884 OCR**"
   ]
  },
  {
   "cell_type": "code",
   "execution_count": 35,
   "metadata": {},
   "outputs": [],
   "source": [
    "df_dict = pd.read_excel(\"beau_monde_1884_tables.xlsx\",header = None, sheet_name = None)"
   ]
  },
  {
   "cell_type": "code",
   "execution_count": 75,
   "metadata": {},
   "outputs": [
    {
     "data": {
      "text/html": [
       "<div>\n",
       "<style scoped>\n",
       "    .dataframe tbody tr th:only-of-type {\n",
       "        vertical-align: middle;\n",
       "    }\n",
       "\n",
       "    .dataframe tbody tr th {\n",
       "        vertical-align: top;\n",
       "    }\n",
       "\n",
       "    .dataframe thead th {\n",
       "        text-align: right;\n",
       "    }\n",
       "</style>\n",
       "<table border=\"1\" class=\"dataframe\">\n",
       "  <thead>\n",
       "    <tr style=\"text-align: right;\">\n",
       "      <th></th>\n",
       "      <th>0</th>\n",
       "      <th>1</th>\n",
       "      <th>2</th>\n",
       "      <th>3</th>\n",
       "    </tr>\n",
       "  </thead>\n",
       "  <tbody>\n",
       "    <tr>\n",
       "      <td>1</td>\n",
       "      <td>M.</td>\n",
       "      <td>d’</td>\n",
       "      <td>Abadie Ghailes.</td>\n",
       "      <td>Rue Vaneau, 32.</td>\n",
       "    </tr>\n",
       "    <tr>\n",
       "      <td>3</td>\n",
       "      <td>y te y se</td>\n",
       "      <td>d’</td>\n",
       "      <td>Abancourt.</td>\n",
       "      <td>Rue Vézelay, 11.</td>\n",
       "    </tr>\n",
       "    <tr>\n",
       "      <td>4</td>\n",
       "      <td>M. Me</td>\n",
       "      <td>d’</td>\n",
       "      <td>Abannza Gh. ...</td>\n",
       "      <td>B1 Montmartre, 19.</td>\n",
       "    </tr>\n",
       "    <tr>\n",
       "      <td>5</td>\n",
       "      <td>M</td>\n",
       "      <td>de</td>\n",
       "      <td>Abaroa Claudio.</td>\n",
       "      <td>Rue Sl-Lazare, 81.</td>\n",
       "    </tr>\n",
       "    <tr>\n",
       "      <td>6</td>\n",
       "      <td>M. M°</td>\n",
       "      <td>d'</td>\n",
       "      <td>Abbadie.</td>\n",
       "      <td>Rue du Bac, 120.</td>\n",
       "    </tr>\n",
       "  </tbody>\n",
       "</table>\n",
       "</div>"
      ],
      "text/plain": [
       "           0   1                2                   3\n",
       "1         M.  d’  Abadie Ghailes.     Rue Vaneau, 32.\n",
       "3  y te y se  d’       Abancourt.    Rue Vézelay, 11.\n",
       "4      M. Me  d’  Abannza Gh. ...  B1 Montmartre, 19.\n",
       "5          M  de  Abaroa Claudio.  Rue Sl-Lazare, 81.\n",
       "6      M. M°  d'         Abbadie.    Rue du Bac, 120."
      ]
     },
     "execution_count": 75,
     "metadata": {},
     "output_type": "execute_result"
    }
   ],
   "source": [
    "df_dict['table_1'].head()"
   ]
  },
  {
   "cell_type": "markdown",
   "metadata": {},
   "source": [
    "Let's count how many addresses we have to start with."
   ]
  },
  {
   "cell_type": "code",
   "execution_count": 77,
   "metadata": {},
   "outputs": [
    {
     "name": "stdout",
     "output_type": "stream",
     "text": [
      "At the beginning, we have 4871 addresses.\n"
     ]
    }
   ],
   "source": [
    "num_adr = 0\n",
    "for i in range(167):\n",
    "    table = 'table_' + str(i+1)\n",
    "    num_adr += count_elmt(df_dict[table])\n",
    "    \n",
    "print('At the beginning, we have %d addresses.' %num_adr)"
   ]
  },
  {
   "cell_type": "markdown",
   "metadata": {},
   "source": [
    "How many rows with missing values (or nan values) do we have?"
   ]
  },
  {
   "cell_type": "code",
   "execution_count": 37,
   "metadata": {},
   "outputs": [
    {
     "name": "stdout",
     "output_type": "stream",
     "text": [
      "There are 5938 missing values in our data.\n"
     ]
    }
   ],
   "source": [
    "counter = 0\n",
    "for table in df_dict:\n",
    "    counter += df_dict[table].isna().sum().sum()\n",
    "print('There are %d missing values in our data.' %(counter))"
   ]
  },
  {
   "cell_type": "markdown",
   "metadata": {},
   "source": [
    "Since there a too many values to fill them in by hand, we will just get rid of the corresponding rows (at least for now)"
   ]
  },
  {
   "cell_type": "code",
   "execution_count": 38,
   "metadata": {},
   "outputs": [
    {
     "name": "stdout",
     "output_type": "stream",
     "text": [
      "Now, there are 0 missing values in our data.\n"
     ]
    }
   ],
   "source": [
    "for table in df_dict:\n",
    "    df_dict[table].dropna(inplace=True)\n",
    "    \n",
    "counter = 0\n",
    "for table in df_dict:\n",
    "    counter += df_dict[table].isna().sum().sum()\n",
    "print('Now, there are %d missing values in our data.' %(counter))"
   ]
  },
  {
   "cell_type": "markdown",
   "metadata": {},
   "source": [
    "Let's now harmonize the format of all the dataframes. We want to end up with one dataframe with two colums: Name and Address"
   ]
  },
  {
   "cell_type": "code",
   "execution_count": 39,
   "metadata": {},
   "outputs": [
    {
     "data": {
      "text/plain": [
       "Counter({'4 columns': 30, '3 columns': 131, '2 columns': 4, '5 columns': 2})"
      ]
     },
     "execution_count": 39,
     "metadata": {},
     "output_type": "execute_result"
    }
   ],
   "source": [
    "cnt = Counter()\n",
    "for i in range(167):\n",
    "    table = 'table_' + str(i+1)\n",
    "    cnt[str(len(df_dict[table].columns)) + ' columns'] += 1\n",
    "\n",
    "cnt"
   ]
  },
  {
   "cell_type": "markdown",
   "metadata": {},
   "source": [
    "There seem to be different formats for the dataframes."
   ]
  },
  {
   "cell_type": "code",
   "execution_count": 62,
   "metadata": {},
   "outputs": [],
   "source": [
    "df_2 = pd.DataFrame(columns = [0,1])\n",
    "df_3 = pd.DataFrame(columns = [0,1,2])\n",
    "df_4 = pd.DataFrame(columns = [0,1,2,3])\n",
    "df_5 = pd.DataFrame(columns = [0,1,2,3,4])\n",
    "\n",
    "for i in range(167):\n",
    "    table = 'table_' + str(i+1)\n",
    "    if len(df_dict[table].columns) == 2: \n",
    "        df_2 = df_2.append(df_dict[table])\n",
    "    elif len(df_dict[table].columns) == 3: \n",
    "        df_3 = df_3.append(df_dict[table])\n",
    "    elif len(df_dict[table].columns) == 4:\n",
    "        df_4 = df_4.append(df_dict[table])\n",
    "    elif len(df_dict[table].columns) == 5:\n",
    "        df_5 = df_5.append(df_dict[table])"
   ]
  },
  {
   "cell_type": "markdown",
   "metadata": {},
   "source": [
    "Let's see those with 2 columns."
   ]
  },
  {
   "cell_type": "code",
   "execution_count": 63,
   "metadata": {},
   "outputs": [
    {
     "data": {
      "text/html": [
       "<div>\n",
       "<style scoped>\n",
       "    .dataframe tbody tr th:only-of-type {\n",
       "        vertical-align: middle;\n",
       "    }\n",
       "\n",
       "    .dataframe tbody tr th {\n",
       "        vertical-align: top;\n",
       "    }\n",
       "\n",
       "    .dataframe thead th {\n",
       "        text-align: right;\n",
       "    }\n",
       "</style>\n",
       "<table border=\"1\" class=\"dataframe\">\n",
       "  <thead>\n",
       "    <tr style=\"text-align: right;\">\n",
       "      <th></th>\n",
       "      <th>0</th>\n",
       "      <th>1</th>\n",
       "    </tr>\n",
       "  </thead>\n",
       "  <tbody>\n",
       "    <tr>\n",
       "      <td>0</td>\n",
       "      <td>M.</td>\n",
       "      <td>Amilhau Paul .</td>\n",
       "    </tr>\n",
       "    <tr>\n",
       "      <td>1</td>\n",
       "      <td>Gte d’</td>\n",
       "      <td>Amilly Auguste.</td>\n",
       "    </tr>\n",
       "    <tr>\n",
       "      <td>2</td>\n",
       "      <td>O Cse d’</td>\n",
       "      <td>Amilly Jean.</td>\n",
       "    </tr>\n",
       "    <tr>\n",
       "      <td>3</td>\n",
       "      <td>C'e d'</td>\n",
       "      <td>Amu ly Maurice.</td>\n",
       "    </tr>\n",
       "    <tr>\n",
       "      <td>4</td>\n",
       "      <td>M.</td>\n",
       "      <td>Anargyrou.</td>\n",
       "    </tr>\n",
       "  </tbody>\n",
       "</table>\n",
       "</div>"
      ],
      "text/plain": [
       "          0                1\n",
       "0        M.   Amilhau Paul .\n",
       "1    Gte d’  Amilly Auguste.\n",
       "2  O Cse d’     Amilly Jean.\n",
       "3    C'e d'  Amu ly Maurice.\n",
       "4        M.       Anargyrou."
      ]
     },
     "execution_count": 63,
     "metadata": {},
     "output_type": "execute_result"
    }
   ],
   "source": [
    "df_2.head() #Just names, we can get rid of this"
   ]
  },
  {
   "cell_type": "markdown",
   "metadata": {},
   "source": [
    "Let's see those with 3 columns."
   ]
  },
  {
   "cell_type": "code",
   "execution_count": 64,
   "metadata": {},
   "outputs": [
    {
     "data": {
      "text/html": [
       "<div>\n",
       "<style scoped>\n",
       "    .dataframe tbody tr th:only-of-type {\n",
       "        vertical-align: middle;\n",
       "    }\n",
       "\n",
       "    .dataframe tbody tr th {\n",
       "        vertical-align: top;\n",
       "    }\n",
       "\n",
       "    .dataframe thead th {\n",
       "        text-align: right;\n",
       "    }\n",
       "</style>\n",
       "<table border=\"1\" class=\"dataframe\">\n",
       "  <thead>\n",
       "    <tr style=\"text-align: right;\">\n",
       "      <th></th>\n",
       "      <th>Names</th>\n",
       "      <th>Addresses</th>\n",
       "    </tr>\n",
       "  </thead>\n",
       "  <tbody>\n",
       "    <tr>\n",
       "      <td>0</td>\n",
       "      <td>M° Adam.</td>\n",
       "      <td>Av. Champs-Elysées, 53.</td>\n",
       "    </tr>\n",
       "    <tr>\n",
       "      <td>1</td>\n",
       "      <td>M. Adam Alfred.</td>\n",
       "      <td>Rue Monceau, 67.</td>\n",
       "    </tr>\n",
       "    <tr>\n",
       "      <td>2</td>\n",
       "      <td>M° Adam Edmond .</td>\n",
       "      <td>BJ Poissonnière, 23.</td>\n",
       "    </tr>\n",
       "    <tr>\n",
       "      <td>3</td>\n",
       "      <td>Mlle Addenet.</td>\n",
       "      <td>Rue Blairault, 19.</td>\n",
       "    </tr>\n",
       "    <tr>\n",
       "      <td>4</td>\n",
       "      <td>Bno d’ Adelsward.</td>\n",
       "      <td>Rue de la Bienfaisance,44.</td>\n",
       "    </tr>\n",
       "  </tbody>\n",
       "</table>\n",
       "</div>"
      ],
      "text/plain": [
       "               Names                   Addresses\n",
       "0           M° Adam.     Av. Champs-Elysées, 53.\n",
       "1    M. Adam Alfred.            Rue Monceau, 67.\n",
       "2   M° Adam Edmond .        BJ Poissonnière, 23.\n",
       "3      Mlle Addenet.          Rue Blairault, 19.\n",
       "4  Bno d’ Adelsward.  Rue de la Bienfaisance,44."
      ]
     },
     "execution_count": 64,
     "metadata": {},
     "output_type": "execute_result"
    }
   ],
   "source": [
    "df_3['Names'] = df_3[0] + ' ' + df_3[1]\n",
    "df_3['Addresses'] = df_3[2]\n",
    "df_3.drop(labels = [0,1,2], axis = 1, inplace = True)\n",
    "df_3.reset_index(drop = True, inplace = True)\n",
    "df_3.head()"
   ]
  },
  {
   "cell_type": "markdown",
   "metadata": {},
   "source": [
    "Let's see those with 4 columns."
   ]
  },
  {
   "cell_type": "code",
   "execution_count": 65,
   "metadata": {},
   "outputs": [
    {
     "data": {
      "text/html": [
       "<div>\n",
       "<style scoped>\n",
       "    .dataframe tbody tr th:only-of-type {\n",
       "        vertical-align: middle;\n",
       "    }\n",
       "\n",
       "    .dataframe tbody tr th {\n",
       "        vertical-align: top;\n",
       "    }\n",
       "\n",
       "    .dataframe thead th {\n",
       "        text-align: right;\n",
       "    }\n",
       "</style>\n",
       "<table border=\"1\" class=\"dataframe\">\n",
       "  <thead>\n",
       "    <tr style=\"text-align: right;\">\n",
       "      <th></th>\n",
       "      <th>0</th>\n",
       "      <th>1</th>\n",
       "      <th>2</th>\n",
       "      <th>3</th>\n",
       "    </tr>\n",
       "  </thead>\n",
       "  <tbody>\n",
       "    <tr>\n",
       "      <td>1</td>\n",
       "      <td>M.</td>\n",
       "      <td>d’</td>\n",
       "      <td>Abadie Ghailes.</td>\n",
       "      <td>Rue Vaneau, 32.</td>\n",
       "    </tr>\n",
       "    <tr>\n",
       "      <td>3</td>\n",
       "      <td>y te y se</td>\n",
       "      <td>d’</td>\n",
       "      <td>Abancourt.</td>\n",
       "      <td>Rue Vézelay, 11.</td>\n",
       "    </tr>\n",
       "    <tr>\n",
       "      <td>4</td>\n",
       "      <td>M. Me</td>\n",
       "      <td>d’</td>\n",
       "      <td>Abannza Gh. ...</td>\n",
       "      <td>B1 Montmartre, 19.</td>\n",
       "    </tr>\n",
       "    <tr>\n",
       "      <td>5</td>\n",
       "      <td>M</td>\n",
       "      <td>de</td>\n",
       "      <td>Abaroa Claudio.</td>\n",
       "      <td>Rue Sl-Lazare, 81.</td>\n",
       "    </tr>\n",
       "    <tr>\n",
       "      <td>6</td>\n",
       "      <td>M. M°</td>\n",
       "      <td>d'</td>\n",
       "      <td>Abbadie.</td>\n",
       "      <td>Rue du Bac, 120.</td>\n",
       "    </tr>\n",
       "  </tbody>\n",
       "</table>\n",
       "</div>"
      ],
      "text/plain": [
       "           0   1                2                   3\n",
       "1         M.  d’  Abadie Ghailes.     Rue Vaneau, 32.\n",
       "3  y te y se  d’       Abancourt.    Rue Vézelay, 11.\n",
       "4      M. Me  d’  Abannza Gh. ...  B1 Montmartre, 19.\n",
       "5          M  de  Abaroa Claudio.  Rue Sl-Lazare, 81.\n",
       "6      M. M°  d'         Abbadie.    Rue du Bac, 120."
      ]
     },
     "execution_count": 65,
     "metadata": {},
     "output_type": "execute_result"
    }
   ],
   "source": [
    "df_4.head()"
   ]
  },
  {
   "cell_type": "code",
   "execution_count": 66,
   "metadata": {},
   "outputs": [
    {
     "data": {
      "text/html": [
       "<div>\n",
       "<style scoped>\n",
       "    .dataframe tbody tr th:only-of-type {\n",
       "        vertical-align: middle;\n",
       "    }\n",
       "\n",
       "    .dataframe tbody tr th {\n",
       "        vertical-align: top;\n",
       "    }\n",
       "\n",
       "    .dataframe thead th {\n",
       "        text-align: right;\n",
       "    }\n",
       "</style>\n",
       "<table border=\"1\" class=\"dataframe\">\n",
       "  <thead>\n",
       "    <tr style=\"text-align: right;\">\n",
       "      <th></th>\n",
       "      <th>Names</th>\n",
       "      <th>Addresses</th>\n",
       "    </tr>\n",
       "  </thead>\n",
       "  <tbody>\n",
       "    <tr>\n",
       "      <td>0</td>\n",
       "      <td>M. d’ Abadie Ghailes.</td>\n",
       "      <td>Rue Vaneau, 32.</td>\n",
       "    </tr>\n",
       "    <tr>\n",
       "      <td>1</td>\n",
       "      <td>y te y se d’ Abancourt.</td>\n",
       "      <td>Rue Vézelay, 11.</td>\n",
       "    </tr>\n",
       "    <tr>\n",
       "      <td>2</td>\n",
       "      <td>M. Me d’ Abannza Gh. ...</td>\n",
       "      <td>B1 Montmartre, 19.</td>\n",
       "    </tr>\n",
       "    <tr>\n",
       "      <td>3</td>\n",
       "      <td>M de Abaroa Claudio.</td>\n",
       "      <td>Rue Sl-Lazare, 81.</td>\n",
       "    </tr>\n",
       "    <tr>\n",
       "      <td>4</td>\n",
       "      <td>M. M° d' Abbadie.</td>\n",
       "      <td>Rue du Bac, 120.</td>\n",
       "    </tr>\n",
       "  </tbody>\n",
       "</table>\n",
       "</div>"
      ],
      "text/plain": [
       "                      Names           Addresses\n",
       "0     M. d’ Abadie Ghailes.     Rue Vaneau, 32.\n",
       "1   y te y se d’ Abancourt.    Rue Vézelay, 11.\n",
       "2  M. Me d’ Abannza Gh. ...  B1 Montmartre, 19.\n",
       "3      M de Abaroa Claudio.  Rue Sl-Lazare, 81.\n",
       "4         M. M° d' Abbadie.    Rue du Bac, 120."
      ]
     },
     "execution_count": 66,
     "metadata": {},
     "output_type": "execute_result"
    }
   ],
   "source": [
    "df_4['Names'] = df_4[0].map(lambda x: str(x)) + ' ' + df_4[1].map(lambda x: str(x)) + ' ' + df_4[2].map(lambda x: str(x)) \n",
    "df_4['Addresses'] = df_4[3]\n",
    "df_4.drop(labels = [0,1,2,3], axis = 1, inplace = True)\n",
    "df_4.reset_index(drop = True, inplace = True)\n",
    "df_4.head()"
   ]
  },
  {
   "cell_type": "markdown",
   "metadata": {},
   "source": [
    "Let's see those with 5 columns."
   ]
  },
  {
   "cell_type": "code",
   "execution_count": 67,
   "metadata": {},
   "outputs": [
    {
     "data": {
      "text/html": [
       "<div>\n",
       "<style scoped>\n",
       "    .dataframe tbody tr th:only-of-type {\n",
       "        vertical-align: middle;\n",
       "    }\n",
       "\n",
       "    .dataframe tbody tr th {\n",
       "        vertical-align: top;\n",
       "    }\n",
       "\n",
       "    .dataframe thead th {\n",
       "        text-align: right;\n",
       "    }\n",
       "</style>\n",
       "<table border=\"1\" class=\"dataframe\">\n",
       "  <thead>\n",
       "    <tr style=\"text-align: right;\">\n",
       "      <th></th>\n",
       "      <th>0</th>\n",
       "      <th>1</th>\n",
       "      <th>2</th>\n",
       "      <th>3</th>\n",
       "      <th>4</th>\n",
       "    </tr>\n",
       "  </thead>\n",
       "  <tbody>\n",
       "    <tr>\n",
       "      <td>5</td>\n",
       "      <td>Dse</td>\n",
       "      <td>de</td>\n",
       "      <td>Serran.</td>\n",
       "      <td>Av. de Tourville, 12.</td>\n",
       "      <td>\\</td>\n",
       "    </tr>\n",
       "    <tr>\n",
       "      <td>6</td>\n",
       "      <td>Cte</td>\n",
       "      <td>de</td>\n",
       "      <td>Serrant.</td>\n",
       "      <td>Rue d’Iéna, 15.</td>\n",
       "      <td>)</td>\n",
       "    </tr>\n",
       "    <tr>\n",
       "      <td>12</td>\n",
       "      <td>Mse</td>\n",
       "      <td>de</td>\n",
       "      <td>Serres de Mesplès ....</td>\n",
       "      <td>Av. Marceau, 39.</td>\n",
       "      <td>1</td>\n",
       "    </tr>\n",
       "    <tr>\n",
       "      <td>23</td>\n",
       "      <td>Cte Csc</td>\n",
       "      <td>de</td>\n",
       "      <td>Sesmaisons R... .</td>\n",
       "      <td>Rue de Marignan, 17.</td>\n",
       "      <td>■ .</td>\n",
       "    </tr>\n",
       "  </tbody>\n",
       "</table>\n",
       "</div>"
      ],
      "text/plain": [
       "          0   1                       2                      3    4\n",
       "5       Dse  de                 Serran.  Av. de Tourville, 12.    \\\n",
       "6       Cte  de                Serrant.        Rue d’Iéna, 15.    )\n",
       "12      Mse  de  Serres de Mesplès ....       Av. Marceau, 39.    1\n",
       "23  Cte Csc  de       Sesmaisons R... .   Rue de Marignan, 17.  ■ ."
      ]
     },
     "execution_count": 67,
     "metadata": {},
     "output_type": "execute_result"
    }
   ],
   "source": [
    "df_5"
   ]
  },
  {
   "cell_type": "code",
   "execution_count": 68,
   "metadata": {},
   "outputs": [
    {
     "data": {
      "text/html": [
       "<div>\n",
       "<style scoped>\n",
       "    .dataframe tbody tr th:only-of-type {\n",
       "        vertical-align: middle;\n",
       "    }\n",
       "\n",
       "    .dataframe tbody tr th {\n",
       "        vertical-align: top;\n",
       "    }\n",
       "\n",
       "    .dataframe thead th {\n",
       "        text-align: right;\n",
       "    }\n",
       "</style>\n",
       "<table border=\"1\" class=\"dataframe\">\n",
       "  <thead>\n",
       "    <tr style=\"text-align: right;\">\n",
       "      <th></th>\n",
       "      <th>Names</th>\n",
       "      <th>Addresses</th>\n",
       "    </tr>\n",
       "  </thead>\n",
       "  <tbody>\n",
       "    <tr>\n",
       "      <td>0</td>\n",
       "      <td>Dse de Serran.</td>\n",
       "      <td>Av. de Tourville, 12.</td>\n",
       "    </tr>\n",
       "    <tr>\n",
       "      <td>1</td>\n",
       "      <td>Cte de Serrant.</td>\n",
       "      <td>Rue d’Iéna, 15.</td>\n",
       "    </tr>\n",
       "    <tr>\n",
       "      <td>2</td>\n",
       "      <td>Mse de Serres de Mesplès ....</td>\n",
       "      <td>Av. Marceau, 39.</td>\n",
       "    </tr>\n",
       "    <tr>\n",
       "      <td>3</td>\n",
       "      <td>Cte Csc de Sesmaisons R... .</td>\n",
       "      <td>Rue de Marignan, 17.</td>\n",
       "    </tr>\n",
       "  </tbody>\n",
       "</table>\n",
       "</div>"
      ],
      "text/plain": [
       "                           Names              Addresses\n",
       "0                 Dse de Serran.  Av. de Tourville, 12.\n",
       "1                Cte de Serrant.        Rue d’Iéna, 15.\n",
       "2  Mse de Serres de Mesplès ....       Av. Marceau, 39.\n",
       "3   Cte Csc de Sesmaisons R... .   Rue de Marignan, 17."
      ]
     },
     "execution_count": 68,
     "metadata": {},
     "output_type": "execute_result"
    }
   ],
   "source": [
    "df_5['Names'] = df_5[0].map(lambda x: str(x)) + ' ' +  df_5[1].map(lambda x: str(x)) + ' ' + df_5[2].map(lambda x: str(x)) \n",
    "df_5['Addresses'] = df_5[3]\n",
    "df_5.drop(labels = [0,1,2,3,4], axis = 1, inplace = True)\n",
    "df_5.reset_index(drop = True, inplace = True)\n",
    "df_5.head()"
   ]
  },
  {
   "cell_type": "markdown",
   "metadata": {},
   "source": [
    "We can now combine them all in one single dataframe."
   ]
  },
  {
   "cell_type": "code",
   "execution_count": 82,
   "metadata": {},
   "outputs": [
    {
     "name": "stdout",
     "output_type": "stream",
     "text": [
      "Before cleaning the strings, we have 4758 addresses.\n",
      "We have therefore lost 2% addresses due to missing values.\n"
     ]
    }
   ],
   "source": [
    "df = pd.concat([df_3, df_4, df_5])\n",
    "pre_cleaned = count_elmt(df)\n",
    "num_lost_adr = num_adr - pre_cleaned\n",
    "print('Before cleaning the strings, we have %d addresses.' %pre_cleaned)\n",
    "print('We have therefore lost %d%% addresses due to missing values.' %(100*num_lost_adr/num_adr))"
   ]
  },
  {
   "cell_type": "markdown",
   "metadata": {},
   "source": [
    "**Cleaning the addresses**"
   ]
  },
  {
   "cell_type": "code",
   "execution_count": 12,
   "metadata": {},
   "outputs": [],
   "source": [
    "# Text handling utilities\n",
    "from string import punctuation\n",
    "def lowercase_all(text):\n",
    "    return text.lower()\n",
    "def remove_punct(text):\n",
    "    return ''.join([ch for ch in text if ch not in punctuation])"
   ]
  },
  {
   "cell_type": "markdown",
   "metadata": {},
   "source": [
    "Spelling Corrector based on the work of Peter Norvig: http://norvig.com/spell-correct.html"
   ]
  },
  {
   "cell_type": "code",
   "execution_count": 13,
   "metadata": {},
   "outputs": [],
   "source": [
    "def words(text): return re.findall(r'\\w+', text.lower())\n",
    "\n",
    "WORDS = Counter(words(open('list_addresses.txt', encoding='utf-8').read())) \n",
    "#list_addresses.txt is a hand-corrected list of addresses\n",
    "\n",
    "def P(word, N=sum(WORDS.values())): \n",
    "    \"Probability of `word`.\"\n",
    "    return WORDS[word] / N\n",
    "\n",
    "def correction(word): \n",
    "    \"Most probable spelling correction for word.\"\n",
    "    return max(candidates(word), key=P)\n",
    "\n",
    "def candidates(word): \n",
    "    \"Generate possible spelling corrections for word.\"\n",
    "    return (known([word]) or known(edits1(word)) or known(edits2(word)) or [word])\n",
    "\n",
    "def known(words): \n",
    "    \"The subset of `words` that appear in the dictionary of WORDS.\"\n",
    "    return set(w for w in words if (w.isalpha() and w.lower() in WORDS))\n",
    "\n",
    "def edits1(word):\n",
    "    \"All edits that are one edit away from `word`.\"\n",
    "    letters    = 'abcdefghijklmnopqrstuvwxyz'\n",
    "    splits     = [(word[:i], word[i:])    for i in range(len(word) + 1)]\n",
    "    deletes    = [L + R[1:]               for L, R in splits if R]\n",
    "    transposes = [L + R[1] + R[0] + R[2:] for L, R in splits if len(R)>1]\n",
    "    replaces   = [L + c + R[1:]           for L, R in splits if R for c in letters]\n",
    "    inserts    = [L + c + R               for L, R in splits for c in letters]\n",
    "    return set(deletes + transposes + replaces + inserts)\n",
    "\n",
    "def edits2(word): \n",
    "    \"All edits that are two edits away from `word`.\"\n",
    "    return (e2 for e1 in edits1(word) for e2 in edits1(e1))"
   ]
  },
  {
   "cell_type": "markdown",
   "metadata": {},
   "source": [
    "We will use SpaCy to tokenize the addresses. We just need to add some rules to deal with special cases (like the hyphen in St-Honoré or commas at the end of a word)."
   ]
  },
  {
   "cell_type": "code",
   "execution_count": 14,
   "metadata": {},
   "outputs": [],
   "source": [
    "import spacy\n",
    "from spacy.tokenizer import Tokenizer\n",
    "nlp = spacy.load('fr_core_news_sm')\n",
    "\n",
    "infix_re = re.compile(r'''[-~]''') #find hyphens\n",
    "suffix_re = re.compile(r'''[,.\"']$''') #find , or . at end of word\n",
    "def customize_tokenizer(nlp):\n",
    "# Adds support to use `-` as the delimiter for tokenization\n",
    "    return Tokenizer(nlp.vocab, \n",
    "                     infix_finditer=infix_re.finditer,\n",
    "                     suffix_search=suffix_re.search, \n",
    "                     token_match=None)\n",
    "\n",
    "nlp.tokenizer = customize_tokenizer(nlp)"
   ]
  },
  {
   "cell_type": "markdown",
   "metadata": {},
   "source": [
    "We can now define some functions to clean the addresses. The first one corrects spelling error and the second one harmonizes all the results."
   ]
  },
  {
   "cell_type": "code",
   "execution_count": 15,
   "metadata": {},
   "outputs": [],
   "source": [
    "def correct_adrs(adrs):\n",
    "    clean_adrs = ''\n",
    "    \n",
    "    #Tokenize the address using SpaCy tokenizer\n",
    "    adrs_parts = nlp(adrs)\n",
    "    #print ([token.text for token in adrs_parts])\n",
    "    \n",
    "    #Find the street number\n",
    "    last = 1\n",
    "    if str(adrs_parts[-1]) in punctuation:\n",
    "        number = adrs_parts[-2]\n",
    "        last = 2\n",
    "    else:\n",
    "        number = adrs_parts[-1]\n",
    "        \n",
    "    #Correction of errors\n",
    "    for i in range(len(adrs_parts)-last):\n",
    "        if adrs_parts[i].text in punctuation:\n",
    "            if adrs_parts[i].text == '-':\n",
    "                clean_adrs = clean_adrs[:-1] + adrs_parts[i].text\n",
    "        else:\n",
    "            clean_adrs += correction(adrs_parts[i].text).capitalize()\n",
    "            clean_adrs += ' '\n",
    "            \n",
    "    return clean_adrs + str(number)\n",
    "\n",
    "convert_adrs = {'av':'Avenue', \n",
    "        'r':'Rue', \n",
    "        'bd':'Boulevard',\n",
    "        'pl':'Place',\n",
    "        'fr':'Faubourg'}\n",
    "\n",
    "def clean_adrs(adrs):\n",
    "    adrs = correct_adrs(adrs)\n",
    "    adrs_part_punct = adrs.split()\n",
    "    adrs_part = remove_punct(adrs).split()\n",
    "    for i in range(len(adrs_part)):\n",
    "        if lowercase_all(adrs_part[i]) in convert_adrs:\n",
    "            adrs_part_punct[i] = convert_adrs[lowercase_all(adrs_part[i])]\n",
    "    adrs = ' '.join(adrs_part_punct)\n",
    "    return adrs"
   ]
  },
  {
   "cell_type": "markdown",
   "metadata": {},
   "source": [
    "Let's have some tests (still need to get rid of NaN values)"
   ]
  },
  {
   "cell_type": "code",
   "execution_count": 16,
   "metadata": {},
   "outputs": [
    {
     "data": {
      "text/plain": [
       "'Faubourg St-Honoré 21'"
      ]
     },
     "execution_count": 16,
     "metadata": {},
     "output_type": "execute_result"
    }
   ],
   "source": [
    "test_adrs = 'Ff S\\'-llonoré. 21'\n",
    "clean_adrs(test_adrs)"
   ]
  },
  {
   "cell_type": "code",
   "execution_count": 17,
   "metadata": {},
   "outputs": [
    {
     "name": "stdout",
     "output_type": "stream",
     "text": [
      "B1 Haussman, 111. : Boulevard Haussman 111\n",
      ". Rue de Rigny, 5. : Rue De Rigny 5\n",
      ". R. de la Bienfaisance, 17. : Rue De La Bienfaisance 17\n",
      ". Rue JoufTroy, 81. : Rue Jouftroy 81\n",
      ". Rue de l’Université; 70. : Rue De L’université; 70\n",
      ". Av. d’Antin , 1. : Avenue Antin 1\n",
      ". Ba Malesherbes, 81. : La Malesherbes 81\n",
      ". Rue Bayard, 20. : Rue Bayard 20\n",
      ". Rue Miromesnil, 20. : Rue Miromesnil 20\n",
      ". Rue de Sèvres. 85. : Rue De Sèvres 85\n",
      ". Rue de Sèvres, 85. : Rue De Sèvres 85\n",
      ". Rue de Sèvres, 85. : Rue De Sèvres 85\n",
      ". Rue de Sèvres, 85. : Rue De Sèvres 85\n",
      ". Rue Royale, 8. : Rue Royale 8\n",
      ". Bd Malesherbes, 8. : Boulevard Malesherbes 8\n",
      "Rue Sl-Lazare, 89. : Rue L-Lazare 89\n",
      "Rue Ville-rÉvêque, 25. : Rue Ville-Révêque 25\n",
      "Rue Barbet-de-Jouy, 30. : Rue Barbet-De-Jouy 30\n",
      "Rue de Yerneuil, 43. : Rue De Yerneuil 43\n",
      "Cité Martignac, 6. : Cité Martignac 6\n",
      "Rue de Grenelle, 125. : Rue De Grenelle 125\n",
      "Rue Blanche, 44. : Rue Blanche 44\n",
      "Rue Miromesnil, 72. : Rue Miromesnil 72\n",
      "Bd Latour-Maubourg, 02. : Boulevard Latour-Maubourg 02\n",
      "Rue de Grenelle, 122. : Rue De Grenelle 122\n",
      "Rue Beaulant, 4. : Rue Beaulant 4\n",
      "Rue du Bac, 46. : Rue Du Bac 46\n",
      "Rue Miromesnil, 12. : Rue Miromesnil 12\n",
      "R. du F'-SMIonoré 160. : Rue Du Fr-Smionoré 160\n",
      "Rue Delaborde, 11. : Rue Delaborde 11\n",
      "Rue Las-Cases, 7. : Rue Las-Cases 7\n",
      "Rue Washington, 20. : Rue Washington 20\n",
      "Rue Las-Cases, 7. : Rue Las-Cases 7\n",
      "Rue Masserait, 11. : Rue Masserait 11\n",
      "Bd S'-Germain, 241. : Boulevard St-Germain 241\n",
      "Av. de l’Alma, 16. : Avenue De L’alma 16\n"
     ]
    }
   ],
   "source": [
    "for adr in df_dict['table_11'][2]:\n",
    "        print(adr + ' : ' + clean_adrs(adr))"
   ]
  },
  {
   "cell_type": "code",
   "execution_count": 20,
   "metadata": {},
   "outputs": [],
   "source": [
    "df_3_proto = df_3.head(100)"
   ]
  },
  {
   "cell_type": "code",
   "execution_count": 21,
   "metadata": {},
   "outputs": [
    {
     "data": {
      "text/plain": [
       "0      Avenue Champs-Elysées 53\n",
       "1                Rue Monceau 67\n",
       "2     Boulevard Poissonnière 23\n",
       "3              Rue Blairault 19\n",
       "4     Rue De La Bienfaisance,44\n",
       "                ...            \n",
       "95          Rue St-Guillaume 29\n",
       "96              Rue Du Regard 6\n",
       "97              Quai D’orsay 41\n",
       "98     Boulevard Malesherbes 19\n",
       "99                De Denfert 14\n",
       "Name: Addresses, Length: 100, dtype: object"
      ]
     },
     "execution_count": 21,
     "metadata": {},
     "output_type": "execute_result"
    }
   ],
   "source": [
    "df_3_proto.Addresses.apply(clean_adrs)"
   ]
  },
  {
   "cell_type": "markdown",
   "metadata": {},
   "source": [
    "**Cleaning the names**"
   ]
  },
  {
   "cell_type": "code",
   "execution_count": 37,
   "metadata": {},
   "outputs": [
    {
     "data": {
      "text/html": [
       "<div>\n",
       "<style scoped>\n",
       "    .dataframe tbody tr th:only-of-type {\n",
       "        vertical-align: middle;\n",
       "    }\n",
       "\n",
       "    .dataframe tbody tr th {\n",
       "        vertical-align: top;\n",
       "    }\n",
       "\n",
       "    .dataframe thead th {\n",
       "        text-align: right;\n",
       "    }\n",
       "</style>\n",
       "<table border=\"1\" class=\"dataframe\">\n",
       "  <thead>\n",
       "    <tr style=\"text-align: right;\">\n",
       "      <th></th>\n",
       "      <th>Names</th>\n",
       "      <th>Addresses</th>\n",
       "    </tr>\n",
       "  </thead>\n",
       "  <tbody>\n",
       "    <tr>\n",
       "      <td>0</td>\n",
       "      <td>M° Adam.</td>\n",
       "      <td>Av. Champs-Elysées, 53.</td>\n",
       "    </tr>\n",
       "    <tr>\n",
       "      <td>1</td>\n",
       "      <td>M. Adam Alfred.</td>\n",
       "      <td>Rue Monceau, 67.</td>\n",
       "    </tr>\n",
       "    <tr>\n",
       "      <td>2</td>\n",
       "      <td>M° Adam Edmond .</td>\n",
       "      <td>BJ Poissonnière, 23.</td>\n",
       "    </tr>\n",
       "    <tr>\n",
       "      <td>3</td>\n",
       "      <td>Mlle Addenet.</td>\n",
       "      <td>Rue Blairault, 19.</td>\n",
       "    </tr>\n",
       "    <tr>\n",
       "      <td>4</td>\n",
       "      <td>Bno d’ Adelsward.</td>\n",
       "      <td>Rue de la Bienfaisance,44.</td>\n",
       "    </tr>\n",
       "    <tr>\n",
       "      <td>5</td>\n",
       "      <td>Bon Bne cl' Adelsward Gustave...</td>\n",
       "      <td>Bd Courcelles, 65.</td>\n",
       "    </tr>\n",
       "    <tr>\n",
       "      <td>6</td>\n",
       "      <td>Bon Jjne J’ Adelsward Axel.</td>\n",
       "      <td>Rue Royale, 10.</td>\n",
       "    </tr>\n",
       "    <tr>\n",
       "      <td>7</td>\n",
       "      <td>M. Adenis de la Roserie ...</td>\n",
       "      <td>Rue Tronchet, 27.</td>\n",
       "    </tr>\n",
       "    <tr>\n",
       "      <td>8</td>\n",
       "      <td>Cso d’ Adhémar.</td>\n",
       "      <td>Rue Lamennais, 15.</td>\n",
       "    </tr>\n",
       "    <tr>\n",
       "      <td>9</td>\n",
       "      <td>Ysed' Adhémard.</td>\n",
       "      <td>Rue cle Bourgogne, 63.</td>\n",
       "    </tr>\n",
       "  </tbody>\n",
       "</table>\n",
       "</div>"
      ],
      "text/plain": [
       "                              Names                   Addresses\n",
       "0                          M° Adam.     Av. Champs-Elysées, 53.\n",
       "1                   M. Adam Alfred.            Rue Monceau, 67.\n",
       "2                  M° Adam Edmond .        BJ Poissonnière, 23.\n",
       "3                     Mlle Addenet.          Rue Blairault, 19.\n",
       "4                 Bno d’ Adelsward.  Rue de la Bienfaisance,44.\n",
       "5  Bon Bne cl' Adelsward Gustave...          Bd Courcelles, 65.\n",
       "6       Bon Jjne J’ Adelsward Axel.             Rue Royale, 10.\n",
       "7       M. Adenis de la Roserie ...           Rue Tronchet, 27.\n",
       "8                   Cso d’ Adhémar.          Rue Lamennais, 15.\n",
       "9                   Ysed' Adhémard.      Rue cle Bourgogne, 63."
      ]
     },
     "execution_count": 37,
     "metadata": {},
     "output_type": "execute_result"
    }
   ],
   "source": [
    "df_3.head(10)"
   ]
  },
  {
   "cell_type": "markdown",
   "metadata": {},
   "source": [
    "Let's define a dict to map all the abbreviations to the corresponding titles (we also include 'Monsieur' and 'Madame')."
   ]
  },
  {
   "cell_type": "code",
   "execution_count": 32,
   "metadata": {},
   "outputs": [],
   "source": [
    "titres = {'Cte':'Comte', 'Cse':'Comtesse', 'Vte':'Vicomte', 'Vse':'Vicomtesse', 'Dc':'Duc', 'Dse':'Duchesse',\n",
    "         'Bon':'Baron', 'Bne':'Baronne', 'Mis':'Marquis', 'Mse':'Marquise', 'Pce':'Prince', 'M':'Monsieur', 'Me':'Madame',\n",
    "         'Mlle':'Mademoiselle'}"
   ]
  },
  {
   "cell_type": "markdown",
   "metadata": {},
   "source": [
    "TO DO: add regex to find patterns of type \"' voyelle\" to get \"d'\" (ex: \"cl ' Adelsward\" doit donner \"d'Adelsward\")"
   ]
  },
  {
   "cell_type": "code",
   "execution_count": 38,
   "metadata": {},
   "outputs": [],
   "source": [
    "def clean_name(name):\n",
    "    name_parts = nlp(name)\n",
    "    cleaned_name = ''\n",
    "    titre = ''\n",
    "    #print ([token.text for token in name_parts])\n",
    "    if name_parts[-1].text in punctuation:\n",
    "        name_parts = name_parts[:-1]\n",
    "    for i in range(len(name_parts)):\n",
    "        if name_parts[i].text in titres:\n",
    "            #print(name_parts[i].text)\n",
    "            titre += titres[remove_punct(name_parts[i].text)] #we add the corresponding title using the dict titres\n",
    "            titre += ' '\n",
    "        else: \n",
    "            cleaned_name += name_parts[i].text\n",
    "        cleaned_name += ' '\n",
    "    #print ([token.text for token in name_parts])\n",
    "    \n",
    "    return (titre,cleaned_name)\n",
    "    "
   ]
  },
  {
   "cell_type": "code",
   "execution_count": 39,
   "metadata": {},
   "outputs": [
    {
     "data": {
      "text/plain": [
       "('Baron Baronne ', '  cl Adelsward Gustave ')"
      ]
     },
     "execution_count": 39,
     "metadata": {},
     "output_type": "execute_result"
    }
   ],
   "source": [
    "test = 'Bon Bne cl Adelsward Gustave'\n",
    "clean_name(test)"
   ]
  },
  {
   "cell_type": "code",
   "execution_count": 40,
   "metadata": {},
   "outputs": [
    {
     "data": {
      "text/plain": [
       "0                                       (, M° Adam )\n",
       "1                       (Monsieur ,  . Adam Alfred )\n",
       "2                                (, M° Adam Edmond )\n",
       "3                         (Mademoiselle ,  Addenet )\n",
       "4                              (, Bno d’ Adelsward )\n",
       "5    (Baron Baronne ,   cl ' Adelsward Gustave . . )\n",
       "6                 (Baron ,  Jjne J’ Adelsward Axel )\n",
       "7          (Monsieur ,  . Adenis de la Roserie . . )\n",
       "8                                (, Cso d’ Adhémar )\n",
       "9                               (, Ysed ' Adhémard )\n",
       "Name: Names, dtype: object"
      ]
     },
     "execution_count": 40,
     "metadata": {},
     "output_type": "execute_result"
    }
   ],
   "source": [
    "df_3_proto.head(10).Names.apply(clean_name)"
   ]
  },
  {
   "cell_type": "code",
   "execution_count": null,
   "metadata": {},
   "outputs": [],
   "source": []
  }
 ],
 "metadata": {
  "kernelspec": {
   "display_name": "Python 3",
   "language": "python",
   "name": "python3"
  },
  "language_info": {
   "codemirror_mode": {
    "name": "ipython",
    "version": 3
   },
   "file_extension": ".py",
   "mimetype": "text/x-python",
   "name": "python",
   "nbconvert_exporter": "python",
   "pygments_lexer": "ipython3",
   "version": "3.7.4"
  }
 },
 "nbformat": 4,
 "nbformat_minor": 4
}
