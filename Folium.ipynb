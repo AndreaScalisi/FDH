{
 "cells": [
  {
   "cell_type": "code",
   "execution_count": 1,
   "metadata": {},
   "outputs": [
    {
     "name": "stderr",
     "output_type": "stream",
     "text": [
      "//anaconda3/lib/python3.7/site-packages/tqdm/autonotebook.py:17: TqdmExperimentalWarning: Using `tqdm.autonotebook.tqdm` in notebook mode. Use `tqdm.tqdm` instead to force console mode (e.g. in jupyter console)\n",
      "  \" (e.g. in jupyter console)\", TqdmExperimentalWarning)\n"
     ]
    }
   ],
   "source": [
    "import pandas as pd\n",
    "import os\n",
    "import folium\n",
    "from geopy.geocoders import Nominatim\n",
    "from folium.plugins import MarkerCluster\n",
    "from tqdm.autonotebook import tqdm"
   ]
  },
  {
   "cell_type": "code",
   "execution_count": 2,
   "metadata": {},
   "outputs": [],
   "source": [
    "path = os.path.join(\".\", \"data\", \"data_1908_cleaned.csv\")\n",
    "people_1908_raw = pd.read_csv(path)\n",
    "people_1908_raw = people_1908_raw.fillna(\"\")\n",
    "people_1908_raw = people_1908_raw.reset_index()[['Names', 'Addresses']]"
   ]
  },
  {
   "cell_type": "code",
   "execution_count": 3,
   "metadata": {},
   "outputs": [],
   "source": [
    "path = os.path.join('data', 'data_1884_cleaned.csv')\n",
    "people_1884_raw = pd.read_csv(path)\n",
    "people_1884_raw = people_1884_raw[['Names', 'Addresses']]"
   ]
  },
  {
   "cell_type": "code",
   "execution_count": 4,
   "metadata": {},
   "outputs": [],
   "source": [
    "paris_coord = [48.864716, 2.349014]\n",
    "paris_map = folium.Map(location=paris_coord)"
   ]
  },
  {
   "cell_type": "code",
   "execution_count": 8,
   "metadata": {},
   "outputs": [],
   "source": [
    "def get_coord(df):\n",
    "\n",
    "    notfound_addresses = 0\n",
    "    people = df.copy()\n",
    "    people[\"latitude\"] = \"0\"\n",
    "    people[\"longitude\"] = \"0\"\n",
    "    geolocator = Nominatim(user_agent=\"agent\")\n",
    "\n",
    "    for i in tqdm(range(len(people))):\n",
    "        try:\n",
    "            coord = geolocator.geocode(people['Addresses'][i] + \", Paris\")\n",
    "        except: \n",
    "            print(\"Try again...\")\n",
    "            try:\n",
    "                coord = geolocator.geocode(people['Addresses'][i] + \", Paris\")\n",
    "            except:\n",
    "                print(\"I give up\")\n",
    "        if(coord):\n",
    "            people[\"latitude\"][i] = coord.latitude\n",
    "            people[\"longitude\"][i] = coord.longitude\n",
    "        else: \n",
    "            notfound_addresses += 1\n",
    "    print(\"Missed \" + str(notfound_addresses) + \"/\" + str(len(people)) + \\\n",
    "          \" addresses (= \" + str(notfound_addresses/len(people)*100) + \"%)\")\n",
    "\n",
    "    return people\n",
    "\n",
    "def put_people_on_map(people, map_):\n",
    "\n",
    "    mc = MarkerCluster()\n",
    "\n",
    "\n",
    "    for i in range(len(people)):\n",
    "        name = people[\"Names\"][i]\n",
    "        address = people[\"Addresses\"][i]\n",
    "\n",
    "        html= \"\"\"\n",
    "            <h1> \"\"\"+ name + \"\"\"</h1>\n",
    "            <img src = \"https://workingwithdog.com/wp-content/uploads/2016/05/new_instagram_logo-1024x1024.jpg\" width = 50 height = 50/>\n",
    "            <p> Influencer of the past </p>\n",
    "            <h2> \"\"\" + address + \"\"\" </h2\"\"\"\n",
    "\n",
    "        iframe = folium.IFrame(html=html, width=400, height=200)\n",
    "        popup = folium.Popup(iframe, max_width=2650)\n",
    "        mc.add_child(folium.Marker([people[\"latitude\"][i], people[\"longitude\"][i]], popup=popup))\n",
    "\n",
    "    map_.add_child(mc)"
   ]
  },
  {
   "cell_type": "code",
   "execution_count": 6,
   "metadata": {},
   "outputs": [
    {
     "data": {
      "application/vnd.jupyter.widget-view+json": {
       "model_id": "8a458e9e82aa4bb5ae0951b7cd3960a8",
       "version_major": 2,
       "version_minor": 0
      },
      "text/plain": [
       "HBox(children=(IntProgress(value=0, max=30), HTML(value='')))"
      ]
     },
     "metadata": {},
     "output_type": "display_data"
    },
    {
     "name": "stdout",
     "output_type": "stream",
     "text": [
      "Try again...\n",
      "Try again...\n",
      "Try again...\n",
      "Try again...\n",
      "Try again...\n",
      "\n",
      "Missed 6/30 addresses (= 20.0%)\n"
     ]
    },
    {
     "data": {
      "text/html": [
       "<div>\n",
       "<style scoped>\n",
       "    .dataframe tbody tr th:only-of-type {\n",
       "        vertical-align: middle;\n",
       "    }\n",
       "\n",
       "    .dataframe tbody tr th {\n",
       "        vertical-align: top;\n",
       "    }\n",
       "\n",
       "    .dataframe thead th {\n",
       "        text-align: right;\n",
       "    }\n",
       "</style>\n",
       "<table border=\"1\" class=\"dataframe\">\n",
       "  <thead>\n",
       "    <tr style=\"text-align: right;\">\n",
       "      <th></th>\n",
       "      <th>Names</th>\n",
       "      <th>Addresses</th>\n",
       "      <th>latitude</th>\n",
       "      <th>longitude</th>\n",
       "    </tr>\n",
       "  </thead>\n",
       "  <tbody>\n",
       "    <tr>\n",
       "      <th>0</th>\n",
       "      <td>M° Adam.</td>\n",
       "      <td>Avenue Champs-Elysées 53</td>\n",
       "      <td>48.8712</td>\n",
       "      <td>2.3039</td>\n",
       "    </tr>\n",
       "    <tr>\n",
       "      <th>1</th>\n",
       "      <td>M. Adam Alfred.</td>\n",
       "      <td>Rue Monceau 67</td>\n",
       "      <td>48.8796</td>\n",
       "      <td>2.30816</td>\n",
       "    </tr>\n",
       "    <tr>\n",
       "      <th>2</th>\n",
       "      <td>M° Adam Edmond .</td>\n",
       "      <td>Boulevard Poissonnière 23</td>\n",
       "      <td>48.8711</td>\n",
       "      <td>2.34417</td>\n",
       "    </tr>\n",
       "    <tr>\n",
       "      <th>3</th>\n",
       "      <td>Mlle Addenet.</td>\n",
       "      <td>Rue Blairault 19</td>\n",
       "      <td>0</td>\n",
       "      <td>0</td>\n",
       "    </tr>\n",
       "    <tr>\n",
       "      <th>4</th>\n",
       "      <td>Bno d’ Adelsward.</td>\n",
       "      <td>Rue De La Bienfaisance,44</td>\n",
       "      <td>48.8766</td>\n",
       "      <td>2.31487</td>\n",
       "    </tr>\n",
       "  </tbody>\n",
       "</table>\n",
       "</div>"
      ],
      "text/plain": [
       "               Names                  Addresses latitude longitude\n",
       "0           M° Adam.   Avenue Champs-Elysées 53  48.8712    2.3039\n",
       "1    M. Adam Alfred.             Rue Monceau 67  48.8796   2.30816\n",
       "2   M° Adam Edmond .  Boulevard Poissonnière 23  48.8711   2.34417\n",
       "3      Mlle Addenet.           Rue Blairault 19        0         0\n",
       "4  Bno d’ Adelsward.  Rue De La Bienfaisance,44  48.8766   2.31487"
      ]
     },
     "execution_count": 6,
     "metadata": {},
     "output_type": "execute_result"
    }
   ],
   "source": [
    "people_1884 = get_coord(people_1884_raw[:30])\n",
    "people_1884.head()"
   ]
  },
  {
   "cell_type": "code",
   "execution_count": 7,
   "metadata": {
    "scrolled": false
   },
   "outputs": [
    {
     "data": {
      "application/vnd.jupyter.widget-view+json": {
       "model_id": "13222a71356941d6b20fc0c847967e5e",
       "version_major": 2,
       "version_minor": 0
      },
      "text/plain": [
       "HBox(children=(IntProgress(value=0, max=30), HTML(value='')))"
      ]
     },
     "metadata": {},
     "output_type": "display_data"
    },
    {
     "name": "stdout",
     "output_type": "stream",
     "text": [
      "Try again...\n",
      "Try again...\n",
      "Try again...\n",
      "Try again...\n",
      "Try again...\n",
      "Try again...\n",
      "\n",
      "Missed 7/30 addresses (= 23.333333333333332%)\n"
     ]
    },
    {
     "data": {
      "text/html": [
       "<div>\n",
       "<style scoped>\n",
       "    .dataframe tbody tr th:only-of-type {\n",
       "        vertical-align: middle;\n",
       "    }\n",
       "\n",
       "    .dataframe tbody tr th {\n",
       "        vertical-align: top;\n",
       "    }\n",
       "\n",
       "    .dataframe thead th {\n",
       "        text-align: right;\n",
       "    }\n",
       "</style>\n",
       "<table border=\"1\" class=\"dataframe\">\n",
       "  <thead>\n",
       "    <tr style=\"text-align: right;\">\n",
       "      <th></th>\n",
       "      <th>Names</th>\n",
       "      <th>Addresses</th>\n",
       "      <th>latitude</th>\n",
       "      <th>longitude</th>\n",
       "    </tr>\n",
       "  </thead>\n",
       "  <tbody>\n",
       "    <tr>\n",
       "      <th>0</th>\n",
       "      <td>Michel-Robert ABRADIE-d’ARRAST</td>\n",
       "      <td>5S bis rue Jouffroy</td>\n",
       "      <td>0</td>\n",
       "      <td>0</td>\n",
       "    </tr>\n",
       "    <tr>\n",
       "      <th>1</th>\n",
       "      <td>ABBATUCCI</td>\n",
       "      <td>103 rue La Boétie</td>\n",
       "      <td>48.8713</td>\n",
       "      <td>2.30717</td>\n",
       "    </tr>\n",
       "    <tr>\n",
       "      <th>2</th>\n",
       "      <td>ABBATUCCI</td>\n",
       "      <td>32 rue Washington</td>\n",
       "      <td>48.8736</td>\n",
       "      <td>2.30377</td>\n",
       "    </tr>\n",
       "    <tr>\n",
       "      <th>3</th>\n",
       "      <td>Georges ABOILARI</td>\n",
       "      <td>46 avenue de Breteuil</td>\n",
       "      <td>48.8501</td>\n",
       "      <td>2.31147</td>\n",
       "    </tr>\n",
       "    <tr>\n",
       "      <th>4</th>\n",
       "      <td>Christian ABOVILLE et Mme née IIENNE-CART</td>\n",
       "      <td>23 rue de Grenelle</td>\n",
       "      <td>48.8534</td>\n",
       "      <td>2.32823</td>\n",
       "    </tr>\n",
       "  </tbody>\n",
       "</table>\n",
       "</div>"
      ],
      "text/plain": [
       "                                       Names                Addresses  \\\n",
       "0             Michel-Robert ABRADIE-d’ARRAST     5S bis rue Jouffroy    \n",
       "1                                  ABBATUCCI       103 rue La Boétie    \n",
       "2                                  ABBATUCCI       32 rue Washington    \n",
       "3                           Georges ABOILARI   46 avenue de Breteuil    \n",
       "4  Christian ABOVILLE et Mme née IIENNE-CART      23 rue de Grenelle    \n",
       "\n",
       "  latitude longitude  \n",
       "0        0         0  \n",
       "1  48.8713   2.30717  \n",
       "2  48.8736   2.30377  \n",
       "3  48.8501   2.31147  \n",
       "4  48.8534   2.32823  "
      ]
     },
     "execution_count": 7,
     "metadata": {},
     "output_type": "execute_result"
    }
   ],
   "source": [
    "people_1908 = get_coord(people_1908_raw[:30])\n",
    "people_1908.head()"
   ]
  },
  {
   "cell_type": "code",
   "execution_count": 9,
   "metadata": {},
   "outputs": [
    {
     "data": {
      "text/html": [
       "<div style=\"width:100%;\"><div style=\"position:relative;width:100%;height:0;padding-bottom:60%;\"><iframe src=\"data:text/html;charset=utf-8;base64,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\" style=\"position:absolute;width:100%;height:100%;left:0;top:0;border:none !important;\" allowfullscreen webkitallowfullscreen mozallowfullscreen></iframe></div></div>"
      ],
      "text/plain": [
       "<folium.folium.Map at 0x11866f890>"
      ]
     },
     "execution_count": 9,
     "metadata": {},
     "output_type": "execute_result"
    }
   ],
   "source": [
    "put_people_on_map(people_1884, paris_map)\n",
    "paris_map"
   ]
  },
  {
   "cell_type": "code",
   "execution_count": null,
   "metadata": {},
   "outputs": [],
   "source": []
  }
 ],
 "metadata": {
  "kernelspec": {
   "display_name": "Python 3",
   "language": "python",
   "name": "python3"
  },
  "language_info": {
   "codemirror_mode": {
    "name": "ipython",
    "version": 3
   },
   "file_extension": ".py",
   "mimetype": "text/x-python",
   "name": "python",
   "nbconvert_exporter": "python",
   "pygments_lexer": "ipython3",
   "version": "3.7.5"
  }
 },
 "nbformat": 4,
 "nbformat_minor": 2
}
