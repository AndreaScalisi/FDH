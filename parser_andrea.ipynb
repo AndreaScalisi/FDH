{
 "cells": [
  {
   "cell_type": "code",
   "execution_count": 74,
   "metadata": {},
   "outputs": [],
   "source": [
    "import pandas as pd\n",
    "#import lxml.etree.ElementTree as ET\n",
    "from lxml import etree\n",
    "path = 'fdh-gallica/bpt6k205233j/alto/bpt6k205233j_038.xml'"
   ]
  },
  {
   "cell_type": "code",
   "execution_count": 147,
   "metadata": {
    "scrolled": true
   },
   "outputs": [
    {
     "name": "stdout",
     "output_type": "stream",
     "text": [
      "ABZ AGIT ABZAC (C\"\"1 Pauld'), 181, rue de La Pompe (xvi*). \n",
      "\n",
      "fACHER de MONTGASCON (B™ d') [et B\"\" née Jeanne de COURCY], 18, avenue d'Antin (vin\"),– et de Villequier, ES è53 [Q], Caudebec-en-Caux (Seine- Inférieure) ^= Villequier. \n",
      "\n",
      "ACHERY de SAN\" DONNINO (P\" d'), Ex-camérier secret, 62, avenue de la Grande-Armée (xvn*) et eJj de Soisy-sous-Montmorency, El Ji fi [S] Soisy-sous-Montmorency (Seine-et-Oise). \n",
      "\n",
      "ACHON (B°n Renéd'), Capitaine au l\"r chasseurs [et B™\" née de LAMOLÈRE, C\"– d'HUST], 124, rue de Provence (vin*), et ^5 de la Roche-de- Gennes, El Sf Gennes (Maine-et-Loire), gg [Or], Les Rosiers-sur-Loire. \n",
      "\n",
      "ACLOQUE (M™) née DUCHANOY, 26, avenue Mar- ceau (xvi*) – et j*5 de La Borde, Kl Saint-An- toiue-du-Rocher, j: (I au d N\" S), âï Wettray (Indre-et-Loire). \n",
      "\n",
      "ACLOQUE (M™ A.), née SEBERT, 9, place des Etats- Unis (xvi1)- [3698.92]. \n",
      "\n",
      "ACLOQUE (Maurice), 19, rue de Presbourg (xvi1) et villa Monténégro [3°. 590], à Cannes (Alpes-Mari- times). \n",
      "\n",
      "AC-Y ACOLLAS (René), $(, Conseiller référendaire à la Cour des Cooptes [et Mme née de MOY], 29, avenue Friedland (vin-) [35 547.26] Acquasanta (d') voir de Narducci. \n",
      "\n",
      "ADAM (Achille), Député dit Pas-de-Calais, 21, avenue d'Antin (vin*) [3: 311.04] et 10, rue Victor-Hugo, à Boulogne-sur-Mer (Pas-de-Calais), -et « La Soli- tude », à Saint-Quentin-en-Tourniont, par Rue (Somme). \n",
      "\n",
      "AC-B-H-RR-UA ADAM (M- Achille), née VERBERKMOES – et & de Yerneuil, Kl tF & [Or] Veriieuil-sur-Indre (Indre-et-Loire). ADAM (M™' Eugène), 2 bis, rne de La Fiaume (vin0) [3- 520.00] et 21, rue de Conflans, à'Poissy, 3; (Seine-et-Oise). \n",
      "\n",
      "ADAM (Henri), mêmes adresses. AC ADAM (Mm* Hippolyte), 47 bis, rue Ampère (xvn\") [35 S25.33] et fa des Mazurettes, 13 fc= èS [Nj Boulogne (Pas-de-Calais). \n",
      "\n",
      "ADAM (M»« Léon) née JÉRÔME PICHON, 33, av. d'Antin (viir). \n",
      "\n",
      "ADAM (SI. et M\"\" Georges), 23, av. de Messine (vin') et 14, rue Circulaire, à Versailles. \n",
      "\n",
      "ADAM (Louis), Agent dechange [et M– née PIERRETJ 23, av. de Messine ivni\") (Bureaux: 48, rue de Pro- vence) (ix\") [3:136.13] – et fa deBrancas, s jj= l£ [0] Sèvres (Seine-et-Oise), -et villa Ellon, à Lion-sur-Mer (Calvados). \n",
      "\n",
      "ADAM (Juliette LAMBER) (M- Edmond), abbaye de Gif (Seine-et-Oise). ADAN (Emile), # [et M\"\"], 7S,r. de Courcelles (viu\")UA ADDA SALVATERRA (M\"« d'), 57, avenue Montaigne (vin-). \n",
      "\n",
      "ADELINE, née FAU (M™ Edmond), 31, rue Pierre- Charron (xvi«) et SA de Sérigny, si fè= â [Or] Cour-Cheverny (Loir-et-Cher). \n",
      "\n",
      "ADELINE (M- Raoul), née FROGER des CHESNES, pavillon de La Louetière, El ]s= ëH [Or] Cour- Chcverny (Loir-et-Cher). ADELIAE (Gaston) [et M™ née DELONDRE], 55, rue Pierre Charron (vin\") et de Moussonvilliers, S f^= S'-Maurice-les-Charençais, 5 kil. (Orne) g|i [0] La Ferté-Vidame (Eure-et-Loir). \n",
      "\n",
      "H-UA ADELON, née HAENTJEXS (M\" Henry), 24, rue de Courcelles (vin-) [3-317.00]. \n",
      "\n",
      "ADELON (Marcel), même adresse. ADELSWARD (B\" Axel d'), née WUHRER,20, rue Daru (vme) et à Nice. \n",
      "\n",
      "ADELSWARD (B\"\" Gustave d'), née de POURTALÈS 63, boulevard de Courcelles (vin\") [3= 508.32] et tfa du Plessis-Mornay, Kl Rochefort-en- Yveliues, 1f= [35 24], £g Donrdan (Seine-et-Oise). \n",
      "\n",
      "ADEMS de LA ROZERIE (A.-H), Conseiller Maître à la Cour des Comptes, 0. ij^, 3, rue de Monceau (vm°). \n",
      "\n",
      "ADHËMAR (Ct. d'), née MARIAKI, 33, rue Was- hington (vm«). \n",
      "\n",
      "ADHËMAR (Y\" Olivier d'), [etV– née VERDET] 86, rue de Varenne (vu*) – et éêù de Saint-Hubert, IS Sorgues-sur-l'Ouvéze (Vaucluse et fa de Teillan, E] Marsillargues (Hérault). \n",
      "\n",
      "ADHËMAR (Y\" Robert d'), à Lille (Nord). AFFRE de SAINT-ROME (C'°- Denis) [née de NOGA- RET], 147, rue de Rennes (vie) – et à Soisy-sous-Mont- morency, [S3 Jf= (Seine-et-Oise). \n",
      "\n",
      "AGACHE (Alfred), 14, rue Weber (xvi«). \n",
      "\n",
      "UA AGHIO.N (M. et M°\" Jules), 24, rue Clément-Marot, (vui«) [3=501.87]. \n",
      "\n",
      "CF Acneau (d') voir: CARPENTIER d'Ac^EAU. AGNEAUX (d') 'voir: de S\" MARIE d'Agneaux. AGNELLET (M. et M\"' Augustin), 50, av. Victor- Hugo (xvi*). \n",
      "\n",
      "AGNELLET (M11* Emma), 59, rue de Prony (xvn«) – etvillaàMenthon-Saint-Bernard, El ^= (Haute- Savoie), ^ï [P.-L.-M.] Annecy. \n",
      "\n",
      "AGXUS lEugène), 59, rue Chardon-Lagache (xvi*). \n",
      "\n",
      "AûON (la Générale M»' d'), née T1ERSONNIER, 78, avenue fleiiri-Ilartiii (xvi*) – et jêj de Sampange, Kl Nevers (Nièvre). \n",
      "\n",
      "AG0PIAN- PACHA (M»'), née KHORASSANDJl, 95, boulevard Malesherbes (vui\"). \n",
      "\n",
      "AGOPIAN-PACHA (L.), même adresse. Y AG0ILT (M\"d')[et M'-MiéedeMONTHICHAIU)], fa de Vandœuvre, IS Coulaus (Sarthe) tg [O|. Le Mans (Sarthe). AGOULT (C\" d'), ancien député [et C' née d'ESTAMPES], 19, boulevard de La Tour-Maubourg (vir) et – {Ss de Beauplan, si ^= H Voreppe (Isère). \n",
      "\n",
      "AGRAIN née de de LESPÉROUX, (M'\" d'), 63 bis, rue de Vareune (vu.) et fa de Bressey, IS Arc-sur-Tille 5 kil. (Côte-d'Or) â [P.-L.-M.J. d'Arc-sur-Tille et Magny. \n",
      "\n",
      "AGRAIN (C\" Jean d') [et C1\" née Geneviève BOliTlNY], mêmes adresses et villa St-V.illior à Nice. \n",
      "\n"
     ]
    }
   ],
   "source": [
    "tree = etree.parse(path)\n",
    "root = tree.getroot()\n",
    "full_name = ''\n",
    "addr_found = False\n",
    "complete_person = False\n",
    "for elem in (root.findall(\".//{http://bibnum.bnf.fr/ns/alto_prod}TextLine\")):\n",
    "    for line in elem.findall(\".//{http://bibnum.bnf.fr/ns/alto_prod}String\"):\n",
    "        word = line.attrib['CONTENT']\n",
    "        #print(word)\n",
    "        if(complete_person):\n",
    "            complete_person=False\n",
    "            if(is_family_name(word)):\n",
    "                print(full_name)\n",
    "                full_name=''\n",
    "                addr_found= False\n",
    "                print()\n",
    "        full_name += word\n",
    "        full_name += ' '   \n",
    "        if('.' in word and addr_found):\n",
    "            complete_person = True\n",
    "        if(is_address(word)):\n",
    "            addr_found = True\n",
    "        "
   ]
  },
  {
   "cell_type": "code",
   "execution_count": 144,
   "metadata": {},
   "outputs": [],
   "source": [
    "addr = ['avenue', 'av.', 'rue', 'r.', 'boulevard', 'b.', 'mêmes adresses', 'même adresse', 'villa', 'place']\n",
    "def is_address(str):\n",
    "    return str in addr"
   ]
  },
  {
   "cell_type": "code",
   "execution_count": 130,
   "metadata": {},
   "outputs": [],
   "source": [
    "def is_family_name(str):\n",
    "    nb_up = 0\n",
    "    for c in str:\n",
    "        if(c.isupper()):\n",
    "            nb_up += 1\n",
    "    \n",
    "    return (nb_up/len(str) > 0.6)"
   ]
  },
  {
   "cell_type": "code",
   "execution_count": 131,
   "metadata": {},
   "outputs": [],
   "source": [
    "def nom_jeune_fille(str):\n",
    "    if(\"née\" not in str):\n",
    "        return \"\"\n",
    "    name = ''\n",
    "    nee_found = False\n",
    "    for word in str.split(\" \"):\n",
    "        if(word == \"née\"):\n",
    "            nee_found = True\n",
    "        if(is_family_name(word) and nee_found):\n",
    "            name = \"née \"+ word.upper()\n",
    "            break\n",
    "    \n",
    "    return name\n",
    "    "
   ]
  },
  {
   "cell_type": "code",
   "execution_count": 132,
   "metadata": {},
   "outputs": [
    {
     "data": {
      "text/plain": [
       "'née GATEAU'"
      ]
     },
     "execution_count": 132,
     "metadata": {},
     "output_type": "execute_result"
    }
   ],
   "source": [
    "nom_jeune_fille(\"Arnaud CHAZEAU née GATeAU\")"
   ]
  },
  {
   "cell_type": "markdown",
   "metadata": {},
   "source": [
    "***Test of the map***"
   ]
  },
  {
   "cell_type": "code",
   "execution_count": 1,
   "metadata": {},
   "outputs": [],
   "source": [
    "import os\n",
    "import pandas as pd\n",
    "import folium"
   ]
  },
  {
   "cell_type": "code",
   "execution_count": 2,
   "metadata": {},
   "outputs": [],
   "source": [
    "paris_coord = [48.864716, 2.349014]"
   ]
  },
  {
   "cell_type": "code",
   "execution_count": 10,
   "metadata": {},
   "outputs": [
    {
     "data": {
      "text/html": [
       "<div style=\"width:100%;\"><div style=\"position:relative;width:100%;height:0;padding-bottom:60%;\"><iframe src=\"data:text/html;charset=utf-8;base64,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\" style=\"position:absolute;width:100%;height:100%;left:0;top:0;border:none !important;\" allowfullscreen webkitallowfullscreen mozallowfullscreen></iframe></div></div>"
      ],
      "text/plain": [
       "<folium.folium.Map at 0x1d6da735708>"
      ]
     },
     "execution_count": 10,
     "metadata": {},
     "output_type": "execute_result"
    }
   ],
   "source": [
    "m = folium.Map(location=paris_coord, zoom_start = 12)\n",
    "m"
   ]
  },
  {
   "cell_type": "code",
   "execution_count": 11,
   "metadata": {},
   "outputs": [],
   "source": [
    "notre_dame_coord = [48.852966, 2.349902]"
   ]
  },
  {
   "cell_type": "code",
   "execution_count": 12,
   "metadata": {},
   "outputs": [
    {
     "data": {
      "text/plain": [
       "<folium.map.Marker at 0x1d6da6d4ac8>"
      ]
     },
     "execution_count": 12,
     "metadata": {},
     "output_type": "execute_result"
    }
   ],
   "source": [
    "folium.Marker(notre_dame_coord, popup=\"Notre-Dame de Paris\").add_to(m)"
   ]
  },
  {
   "cell_type": "code",
   "execution_count": 13,
   "metadata": {},
   "outputs": [
    {
     "data": {
      "text/html": [
       "<div style=\"width:100%;\"><div style=\"position:relative;width:100%;height:0;padding-bottom:60%;\"><iframe src=\"data:text/html;charset=utf-8;base64,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\" style=\"position:absolute;width:100%;height:100%;left:0;top:0;border:none !important;\" allowfullscreen webkitallowfullscreen mozallowfullscreen></iframe></div></div>"
      ],
      "text/plain": [
       "<folium.folium.Map at 0x1d6da735708>"
      ]
     },
     "execution_count": 13,
     "metadata": {},
     "output_type": "execute_result"
    }
   ],
   "source": [
    "m"
   ]
  },
  {
   "cell_type": "code",
   "execution_count": null,
   "metadata": {},
   "outputs": [],
   "source": []
  }
 ],
 "metadata": {
  "kernelspec": {
   "display_name": "Python 3",
   "language": "python",
   "name": "python3"
  },
  "language_info": {
   "codemirror_mode": {
    "name": "ipython",
    "version": 3
   },
   "file_extension": ".py",
   "mimetype": "text/x-python",
   "name": "python",
   "nbconvert_exporter": "python",
   "pygments_lexer": "ipython3",
   "version": "3.7.4"
  }
 },
 "nbformat": 4,
 "nbformat_minor": 4
}
