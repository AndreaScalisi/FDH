{
 "cells": [
  {
   "cell_type": "code",
   "execution_count": 1,
   "metadata": {},
   "outputs": [
    {
     "name": "stderr",
     "output_type": "stream",
     "text": [
      "//anaconda3/lib/python3.7/site-packages/tqdm/autonotebook.py:17: TqdmExperimentalWarning: Using `tqdm.autonotebook.tqdm` in notebook mode. Use `tqdm.tqdm` instead to force console mode (e.g. in jupyter console)\n",
      "  \" (e.g. in jupyter console)\", TqdmExperimentalWarning)\n"
     ]
    }
   ],
   "source": [
    "import pandas as pd\n",
    "import re\n",
    "from collections import Counter\n",
    "import spacy\n",
    "from spacy.tokenizer import Tokenizer\n",
    "from geopy.geocoders import Nominatim\n",
    "from tqdm.autonotebook import tqdm"
   ]
  },
  {
   "cell_type": "markdown",
   "metadata": {},
   "source": [
    "### Utility functions"
   ]
  },
  {
   "cell_type": "code",
   "execution_count": 2,
   "metadata": {},
   "outputs": [],
   "source": [
    "#Function to get the number of elements\n",
    "def count_elmt(df):\n",
    "    return len(df.index)\n",
    "\n",
    "# Text handling utilities\n",
    "from string import punctuation\n",
    "def lowercase_all(text):\n",
    "    return text.lower()\n",
    "def remove_punct(text):\n",
    "    return ''.join([ch for ch in text if ch not in punctuation])"
   ]
  },
  {
   "cell_type": "markdown",
   "metadata": {},
   "source": [
    "# Loading the data cleaned in the respective parser"
   ]
  },
  {
   "cell_type": "code",
   "execution_count": 3,
   "metadata": {},
   "outputs": [],
   "source": [
    "df_1884 = pd.read_csv('data/data_1884_cleaned.csv')\n",
    "df_1908 = pd.read_csv('data/data_1908_cleaned.csv')"
   ]
  },
  {
   "cell_type": "markdown",
   "metadata": {},
   "source": [
    "# Preprocessing"
   ]
  },
  {
   "cell_type": "code",
   "execution_count": 4,
   "metadata": {},
   "outputs": [],
   "source": [
    "def remove_accent(string):\n",
    "    string = string.replace('é','e')\n",
    "    string = string.replace('è','e')\n",
    "    string = string.replace('ê','e')\n",
    "    string = string.replace('ë','e')\n",
    "    string = string.replace('à','a')\n",
    "    string = string.replace('â','a')\n",
    "    string = string.replace('ô','o')\n",
    "    return string\n",
    "\n",
    "def simplest(string): #Return the simplest form (no punctuation, all lowercase, no accents) of a string\n",
    "    new_string = ''\n",
    "    if type(string) == str:\n",
    "        for c in string:\n",
    "            if c.isalpha():\n",
    "                new_string += c\n",
    "    return remove_punct(lowercase_all(remove_accent(new_string)))\n",
    "\n",
    "def simplest_adr(string): #Format: Avenue St-Honoré 21 -> avenuesthonore21\n",
    "    num = ''\n",
    "    if type(string) == str:\n",
    "        for c in string:\n",
    "            if c.isnumeric():\n",
    "                num += c   \n",
    "    return(simplest(string)+num)"
   ]
  },
  {
   "cell_type": "code",
   "execution_count": 5,
   "metadata": {},
   "outputs": [],
   "source": [
    "df_1884['Simplest'] = df_1884['Addresses'].apply(simplest_adr)\n",
    "df_1908['Simplest'] = df_1908['Addresses'].apply(simplest_adr)"
   ]
  },
  {
   "cell_type": "markdown",
   "metadata": {},
   "source": [
    "# Getting the coordinates"
   ]
  },
  {
   "cell_type": "markdown",
   "metadata": {},
   "source": [
    "### Paris street names"
   ]
  },
  {
   "cell_type": "code",
   "execution_count": 6,
   "metadata": {},
   "outputs": [
    {
     "data": {
      "text/html": [
       "<div>\n",
       "<style scoped>\n",
       "    .dataframe tbody tr th:only-of-type {\n",
       "        vertical-align: middle;\n",
       "    }\n",
       "\n",
       "    .dataframe tbody tr th {\n",
       "        vertical-align: top;\n",
       "    }\n",
       "\n",
       "    .dataframe thead th {\n",
       "        text-align: right;\n",
       "    }\n",
       "</style>\n",
       "<table border=\"1\" class=\"dataframe\">\n",
       "  <thead>\n",
       "    <tr style=\"text-align: right;\">\n",
       "      <th></th>\n",
       "      <th>id</th>\n",
       "      <th>type</th>\n",
       "      <th>article</th>\n",
       "      <th>nom</th>\n",
       "      <th>nom_entier</th>\n",
       "      <th>num</th>\n",
       "      <th>debut</th>\n",
       "      <th>fin</th>\n",
       "      <th>source</th>\n",
       "      <th>Y</th>\n",
       "      <th>X</th>\n",
       "      <th>Simplest</th>\n",
       "    </tr>\n",
       "  </thead>\n",
       "  <tbody>\n",
       "    <tr>\n",
       "      <th>0</th>\n",
       "      <td>7646</td>\n",
       "      <td>allee</td>\n",
       "      <td>d'</td>\n",
       "      <td>antin</td>\n",
       "      <td>Allée d'Antin</td>\n",
       "      <td>23</td>\n",
       "      <td>NaN</td>\n",
       "      <td>NaN</td>\n",
       "      <td>Vasserot</td>\n",
       "      <td>48.868123</td>\n",
       "      <td>2.309918</td>\n",
       "      <td>alleedantin23</td>\n",
       "    </tr>\n",
       "    <tr>\n",
       "      <th>1</th>\n",
       "      <td>7647</td>\n",
       "      <td>allee</td>\n",
       "      <td>d'</td>\n",
       "      <td>antin</td>\n",
       "      <td>Allée d'Antin</td>\n",
       "      <td>21</td>\n",
       "      <td>NaN</td>\n",
       "      <td>NaN</td>\n",
       "      <td>Vasserot</td>\n",
       "      <td>48.867949</td>\n",
       "      <td>2.309923</td>\n",
       "      <td>alleedantin21</td>\n",
       "    </tr>\n",
       "    <tr>\n",
       "      <th>2</th>\n",
       "      <td>7648</td>\n",
       "      <td>allee</td>\n",
       "      <td>d'</td>\n",
       "      <td>antin</td>\n",
       "      <td>Allée d'Antin</td>\n",
       "      <td>19</td>\n",
       "      <td>NaN</td>\n",
       "      <td>NaN</td>\n",
       "      <td>Vasserot</td>\n",
       "      <td>48.867724</td>\n",
       "      <td>2.309931</td>\n",
       "      <td>alleedantin19</td>\n",
       "    </tr>\n",
       "    <tr>\n",
       "      <th>3</th>\n",
       "      <td>7649</td>\n",
       "      <td>allee</td>\n",
       "      <td>d'</td>\n",
       "      <td>antin</td>\n",
       "      <td>Allée d'Antin</td>\n",
       "      <td>17</td>\n",
       "      <td>NaN</td>\n",
       "      <td>NaN</td>\n",
       "      <td>Vasserot</td>\n",
       "      <td>48.867548</td>\n",
       "      <td>2.309941</td>\n",
       "      <td>alleedantin17</td>\n",
       "    </tr>\n",
       "    <tr>\n",
       "      <th>4</th>\n",
       "      <td>7650</td>\n",
       "      <td>allee</td>\n",
       "      <td>d'</td>\n",
       "      <td>antin</td>\n",
       "      <td>Allée d'Antin</td>\n",
       "      <td>15</td>\n",
       "      <td>NaN</td>\n",
       "      <td>NaN</td>\n",
       "      <td>Vasserot</td>\n",
       "      <td>48.867392</td>\n",
       "      <td>2.309942</td>\n",
       "      <td>alleedantin15</td>\n",
       "    </tr>\n",
       "  </tbody>\n",
       "</table>\n",
       "</div>"
      ],
      "text/plain": [
       "     id   type article    nom     nom_entier num  debut  fin    source  \\\n",
       "0  7646  allee      d'  antin  Allée d'Antin  23    NaN  NaN  Vasserot   \n",
       "1  7647  allee      d'  antin  Allée d'Antin  21    NaN  NaN  Vasserot   \n",
       "2  7648  allee      d'  antin  Allée d'Antin  19    NaN  NaN  Vasserot   \n",
       "3  7649  allee      d'  antin  Allée d'Antin  17    NaN  NaN  Vasserot   \n",
       "4  7650  allee      d'  antin  Allée d'Antin  15    NaN  NaN  Vasserot   \n",
       "\n",
       "           Y         X       Simplest  \n",
       "0  48.868123  2.309918  alleedantin23  \n",
       "1  48.867949  2.309923  alleedantin21  \n",
       "2  48.867724  2.309931  alleedantin19  \n",
       "3  48.867548  2.309941  alleedantin17  \n",
       "4  48.867392  2.309942  alleedantin15  "
      ]
     },
     "execution_count": 6,
     "metadata": {},
     "output_type": "execute_result"
    }
   ],
   "source": [
    "coord = pd.read_csv('data/All_nums.csv')\n",
    "coord['Simplest'] = coord['nom_entier'] + coord['num'].map(lambda x: str(x))\n",
    "coord['Simplest'] = coord['Simplest'].apply(simplest_adr)\n",
    "coord.head()"
   ]
  },
  {
   "cell_type": "code",
   "execution_count": 7,
   "metadata": {},
   "outputs": [],
   "source": [
    "df_1884_coord = df_1884.merge(coord[['Simplest', 'Y', 'X']], on = 'Simplest')\n",
    "df_1908_coord = df_1908.merge(coord[['Simplest', 'Y', 'X']], on = 'Simplest')"
   ]
  },
  {
   "cell_type": "code",
   "execution_count": 8,
   "metadata": {},
   "outputs": [],
   "source": [
    "df_1884_coord = df_1884_coord.reset_index()[[\"Names\", \"Addresses\"]]\n",
    "df_1908_coord = df_1908_coord.reset_index()[[\"Names\", \"Addresses\"]]"
   ]
  },
  {
   "cell_type": "code",
   "execution_count": 9,
   "metadata": {},
   "outputs": [
    {
     "name": "stdout",
     "output_type": "stream",
     "text": [
      "For the year 1884, we have 2765 addresses with coordinates.\n",
      "For the year 1908, we have 5594 addresses with coordinates.\n"
     ]
    }
   ],
   "source": [
    "print(\"For the year 1884, we have %d addresses with coordinates.\" %count_elmt(df_1884_coord))\n",
    "print(\"For the year 1908, we have %d addresses with coordinates.\" %count_elmt(df_1908_coord))"
   ]
  },
  {
   "cell_type": "code",
   "execution_count": 10,
   "metadata": {},
   "outputs": [],
   "source": [
    "df_1884_no_coord = pd.concat([df_1884,df_1884_coord], sort = True).drop_duplicates(subset = 'Simplest', keep = False)\n",
    "df_1908_no_coord = pd.concat([df_1908,df_1908_coord], sort = True).drop_duplicates(subset = 'Simplest', keep = False)"
   ]
  },
  {
   "cell_type": "code",
   "execution_count": 11,
   "metadata": {},
   "outputs": [
    {
     "data": {
      "text/html": [
       "<div>\n",
       "<style scoped>\n",
       "    .dataframe tbody tr th:only-of-type {\n",
       "        vertical-align: middle;\n",
       "    }\n",
       "\n",
       "    .dataframe tbody tr th {\n",
       "        vertical-align: top;\n",
       "    }\n",
       "\n",
       "    .dataframe thead th {\n",
       "        text-align: right;\n",
       "    }\n",
       "</style>\n",
       "<table border=\"1\" class=\"dataframe\">\n",
       "  <thead>\n",
       "    <tr style=\"text-align: right;\">\n",
       "      <th></th>\n",
       "      <th>Names</th>\n",
       "      <th>Addresses</th>\n",
       "    </tr>\n",
       "  </thead>\n",
       "  <tbody>\n",
       "    <tr>\n",
       "      <th>0</th>\n",
       "      <td>M. Adam Alfred.</td>\n",
       "      <td>Rue Monceau 67</td>\n",
       "    </tr>\n",
       "    <tr>\n",
       "      <th>1</th>\n",
       "      <td>Mlle Addenet.</td>\n",
       "      <td>Rue Blairault 19</td>\n",
       "    </tr>\n",
       "    <tr>\n",
       "      <th>2</th>\n",
       "      <td>Bno d’ Adelsward.</td>\n",
       "      <td>Rue De La Bienfaisance,44</td>\n",
       "    </tr>\n",
       "    <tr>\n",
       "      <th>3</th>\n",
       "      <td>Bon Bne cl' Adelsward Gustave...</td>\n",
       "      <td>Boulevard Courcelles 65</td>\n",
       "    </tr>\n",
       "    <tr>\n",
       "      <th>4</th>\n",
       "      <td>M. Adenis de la Roserie ...</td>\n",
       "      <td>Rue Tronchet 27</td>\n",
       "    </tr>\n",
       "  </tbody>\n",
       "</table>\n",
       "</div>"
      ],
      "text/plain": [
       "                              Names                  Addresses\n",
       "0                   M. Adam Alfred.             Rue Monceau 67\n",
       "1                     Mlle Addenet.           Rue Blairault 19\n",
       "2                 Bno d’ Adelsward.  Rue De La Bienfaisance,44\n",
       "3  Bon Bne cl' Adelsward Gustave...    Boulevard Courcelles 65\n",
       "4       M. Adenis de la Roserie ...            Rue Tronchet 27"
      ]
     },
     "execution_count": 11,
     "metadata": {},
     "output_type": "execute_result"
    }
   ],
   "source": [
    "df_1884_no_coord = df_1884_no_coord.reset_index()[[\"Names\", \"Addresses\"]]\n",
    "df_1884_no_coord.head()"
   ]
  },
  {
   "cell_type": "code",
   "execution_count": 12,
   "metadata": {},
   "outputs": [
    {
     "data": {
      "text/html": [
       "<div>\n",
       "<style scoped>\n",
       "    .dataframe tbody tr th:only-of-type {\n",
       "        vertical-align: middle;\n",
       "    }\n",
       "\n",
       "    .dataframe tbody tr th {\n",
       "        vertical-align: top;\n",
       "    }\n",
       "\n",
       "    .dataframe thead th {\n",
       "        text-align: right;\n",
       "    }\n",
       "</style>\n",
       "<table border=\"1\" class=\"dataframe\">\n",
       "  <thead>\n",
       "    <tr style=\"text-align: right;\">\n",
       "      <th></th>\n",
       "      <th>Names</th>\n",
       "      <th>Addresses</th>\n",
       "    </tr>\n",
       "  </thead>\n",
       "  <tbody>\n",
       "    <tr>\n",
       "      <th>0</th>\n",
       "      <td>Michel-Robert ABRADIE-d’ARRAST</td>\n",
       "      <td>5S bis rue Jouffroy</td>\n",
       "    </tr>\n",
       "    <tr>\n",
       "      <th>1</th>\n",
       "      <td>Georges ABOILARI</td>\n",
       "      <td>46 avenue de Breteuil</td>\n",
       "    </tr>\n",
       "    <tr>\n",
       "      <th>2</th>\n",
       "      <td>Paul ABZAC</td>\n",
       "      <td>181 rue de La Pompe</td>\n",
       "    </tr>\n",
       "    <tr>\n",
       "      <th>3</th>\n",
       "      <td>ACHERY de SAS DONNINO</td>\n",
       "      <td>62 avenue de la Grande-Armée</td>\n",
       "    </tr>\n",
       "    <tr>\n",
       "      <th>4</th>\n",
       "      <td>ACLOQLE SEBERT</td>\n",
       "      <td>9 place des Etats- Unis</td>\n",
       "    </tr>\n",
       "  </tbody>\n",
       "</table>\n",
       "</div>"
      ],
      "text/plain": [
       "                            Names                       Addresses\n",
       "0  Michel-Robert ABRADIE-d’ARRAST            5S bis rue Jouffroy \n",
       "1                Georges ABOILARI          46 avenue de Breteuil \n",
       "2                      Paul ABZAC            181 rue de La Pompe \n",
       "3           ACHERY de SAS DONNINO   62 avenue de la Grande-Armée \n",
       "4                  ACLOQLE SEBERT        9 place des Etats- Unis "
      ]
     },
     "execution_count": 12,
     "metadata": {},
     "output_type": "execute_result"
    }
   ],
   "source": [
    "df_1908_no_coord = df_1908_no_coord.reset_index()[[\"Names\", \"Addresses\"]]\n",
    "df_1908_no_coord.head()"
   ]
  },
  {
   "cell_type": "code",
   "execution_count": 13,
   "metadata": {},
   "outputs": [
    {
     "name": "stdout",
     "output_type": "stream",
     "text": [
      "For the year 1884, we still have 2352 addresses without coordinates.\n",
      "For the year 1908, we still have 3779 addresses without coordinates.\n"
     ]
    }
   ],
   "source": [
    "print(\"For the year 1884, we still have %d addresses without coordinates.\" %count_elmt(df_1884_no_coord))\n",
    "print(\"For the year 1908, we still have %d addresses without coordinates.\" %count_elmt(df_1908_no_coord))"
   ]
  },
  {
   "cell_type": "markdown",
   "metadata": {},
   "source": [
    "### Geopy"
   ]
  },
  {
   "cell_type": "code",
   "execution_count": 14,
   "metadata": {},
   "outputs": [],
   "source": [
    "def get_coord(df):\n",
    "\n",
    "    notfound_addresses = 0\n",
    "    people = df.copy()\n",
    "    failed = pd.DataFrame(columns = ['Names','Addresses'])\n",
    "    success = pd.DataFrame(columns = ['Names','Addresses'])\n",
    "    people[\"latitude\"] = \"0\"\n",
    "    people[\"longitude\"] = \"0\"\n",
    "    geolocator = Nominatim(user_agent=\"agent\")\n",
    "    coord = None\n",
    "    for i in tqdm(range(len(people))):\n",
    "        try:\n",
    "            coord = geolocator.geocode(people['Addresses'][i] + \", Paris\")\n",
    "        except: \n",
    "            try:\n",
    "                coord = geolocator.geocode(people['Addresses'][i] + \", Paris\")\n",
    "            except:\n",
    "                print(\"I give up\")\n",
    "                failed = failed.append(people.iloc[[i]])\n",
    "                \n",
    "        if(coord):\n",
    "            people[\"latitude\"][i] = coord.latitude\n",
    "            people[\"longitude\"][i] = coord.longitude\n",
    "            success = success.append(people.iloc[[i]])\n",
    "        else: \n",
    "            notfound_addresses += 1\n",
    "    print(\"Missed \" + str(notfound_addresses) + \"/\" + str(len(people)) + \\\n",
    "          \" addresses (= \" + str(notfound_addresses/len(people)*100) + \"%)\")\n",
    "\n",
    "    return (success, failed)"
   ]
  },
  {
   "cell_type": "code",
   "execution_count": 15,
   "metadata": {},
   "outputs": [
    {
     "data": {
      "application/vnd.jupyter.widget-view+json": {
       "model_id": "8b9a22d1592d400f83cc1573e4cfcf87",
       "version_major": 2,
       "version_minor": 0
      },
      "text/plain": [
       "HBox(children=(IntProgress(value=0, max=30), HTML(value='')))"
      ]
     },
     "metadata": {},
     "output_type": "display_data"
    },
    {
     "name": "stderr",
     "output_type": "stream",
     "text": [
      "//anaconda3/lib/python3.7/site-packages/pandas/core/frame.py:7138: FutureWarning: Sorting because non-concatenation axis is not aligned. A future version\n",
      "of pandas will change to not sort by default.\n",
      "\n",
      "To accept the future behavior, pass 'sort=False'.\n",
      "\n",
      "To retain the current behavior and silence the warning, pass 'sort=True'.\n",
      "\n",
      "  sort=sort,\n"
     ]
    },
    {
     "name": "stdout",
     "output_type": "stream",
     "text": [
      "\n",
      "Missed 12/30 addresses (= 40.0%)\n"
     ]
    }
   ],
   "source": [
    "(people_1908 ,failed) = get_coord(df_1908_no_coord)\n",
    "n_iter = 0\n",
    "while (len(failed)>0 and n_iter < 10):\n",
    "    (success,failed) = get_coord(failed)\n",
    "    people_1908 = people_1908.append(success, sort = False)\n",
    "    n_iter += 1"
   ]
  },
  {
   "cell_type": "code",
   "execution_count": 17,
   "metadata": {},
   "outputs": [
    {
     "data": {
      "application/vnd.jupyter.widget-view+json": {
       "model_id": "cbb6d56a777b45e49f683aed8f3ad3e4",
       "version_major": 2,
       "version_minor": 0
      },
      "text/plain": [
       "HBox(children=(IntProgress(value=0, max=30), HTML(value='')))"
      ]
     },
     "metadata": {},
     "output_type": "display_data"
    },
    {
     "name": "stdout",
     "output_type": "stream",
     "text": [
      "\n",
      "Missed 10/30 addresses (= 33.33333333333333%)\n"
     ]
    }
   ],
   "source": [
    "(people_1884 ,failed) = get_coord(df_1884_no_coord)\n",
    "n_iter = 0\n",
    "while (len(failed)>0 and n_iter < 10):\n",
    "    (success,failed) = get_coord(failed)\n",
    "    people_1884 = people_1884.append(success, sort = False)\n",
    "    n_iter += 1"
   ]
  },
  {
   "cell_type": "code",
   "execution_count": 19,
   "metadata": {},
   "outputs": [],
   "source": [
    "final_1908 = people_1908.append(df_1908_coord, sort = False)\n",
    "final_1884 = people_1884.append(df_1884_coord, sort = False)"
   ]
  },
  {
   "cell_type": "markdown",
   "metadata": {},
   "source": [
    "# Final output"
   ]
  },
  {
   "cell_type": "code",
   "execution_count": 20,
   "metadata": {},
   "outputs": [
    {
     "data": {
      "text/html": [
       "<div>\n",
       "<style scoped>\n",
       "    .dataframe tbody tr th:only-of-type {\n",
       "        vertical-align: middle;\n",
       "    }\n",
       "\n",
       "    .dataframe tbody tr th {\n",
       "        vertical-align: top;\n",
       "    }\n",
       "\n",
       "    .dataframe thead th {\n",
       "        text-align: right;\n",
       "    }\n",
       "</style>\n",
       "<table border=\"1\" class=\"dataframe\">\n",
       "  <thead>\n",
       "    <tr style=\"text-align: right;\">\n",
       "      <th></th>\n",
       "      <th>Addresses</th>\n",
       "      <th>Names</th>\n",
       "      <th>latitude</th>\n",
       "      <th>longitude</th>\n",
       "    </tr>\n",
       "  </thead>\n",
       "  <tbody>\n",
       "    <tr>\n",
       "      <th>0</th>\n",
       "      <td>Rue Monceau 67</td>\n",
       "      <td>M. Adam Alfred.</td>\n",
       "      <td>48.8796</td>\n",
       "      <td>2.30816</td>\n",
       "    </tr>\n",
       "    <tr>\n",
       "      <th>2</th>\n",
       "      <td>Rue De La Bienfaisance,44</td>\n",
       "      <td>Bno d’ Adelsward.</td>\n",
       "      <td>48.8766</td>\n",
       "      <td>2.31487</td>\n",
       "    </tr>\n",
       "    <tr>\n",
       "      <th>3</th>\n",
       "      <td>Boulevard Courcelles 65</td>\n",
       "      <td>Bon Bne cl' Adelsward Gustave...</td>\n",
       "      <td>48.8794</td>\n",
       "      <td>2.30436</td>\n",
       "    </tr>\n",
       "    <tr>\n",
       "      <th>4</th>\n",
       "      <td>Rue Tronchet 27</td>\n",
       "      <td>M. Adenis de la Roserie ...</td>\n",
       "      <td>48.8727</td>\n",
       "      <td>2.32617</td>\n",
       "    </tr>\n",
       "    <tr>\n",
       "      <th>7</th>\n",
       "      <td>Rue St-Placide 62</td>\n",
       "      <td>Mc d' Affry de i.a Monnoye.</td>\n",
       "      <td>48.8471</td>\n",
       "      <td>2.32648</td>\n",
       "    </tr>\n",
       "  </tbody>\n",
       "</table>\n",
       "</div>"
      ],
      "text/plain": [
       "                   Addresses                             Names latitude  \\\n",
       "0             Rue Monceau 67                   M. Adam Alfred.  48.8796   \n",
       "2  Rue De La Bienfaisance,44                 Bno d’ Adelsward.  48.8766   \n",
       "3    Boulevard Courcelles 65  Bon Bne cl' Adelsward Gustave...  48.8794   \n",
       "4            Rue Tronchet 27       M. Adenis de la Roserie ...  48.8727   \n",
       "7          Rue St-Placide 62       Mc d' Affry de i.a Monnoye.  48.8471   \n",
       "\n",
       "  longitude  \n",
       "0   2.30816  \n",
       "2   2.31487  \n",
       "3   2.30436  \n",
       "4   2.32617  \n",
       "7   2.32648  "
      ]
     },
     "execution_count": 20,
     "metadata": {},
     "output_type": "execute_result"
    }
   ],
   "source": [
    "final_1884.head()"
   ]
  },
  {
   "cell_type": "code",
   "execution_count": 21,
   "metadata": {},
   "outputs": [
    {
     "data": {
      "text/html": [
       "<div>\n",
       "<style scoped>\n",
       "    .dataframe tbody tr th:only-of-type {\n",
       "        vertical-align: middle;\n",
       "    }\n",
       "\n",
       "    .dataframe tbody tr th {\n",
       "        vertical-align: top;\n",
       "    }\n",
       "\n",
       "    .dataframe thead th {\n",
       "        text-align: right;\n",
       "    }\n",
       "</style>\n",
       "<table border=\"1\" class=\"dataframe\">\n",
       "  <thead>\n",
       "    <tr style=\"text-align: right;\">\n",
       "      <th></th>\n",
       "      <th>Addresses</th>\n",
       "      <th>Names</th>\n",
       "      <th>latitude</th>\n",
       "      <th>longitude</th>\n",
       "    </tr>\n",
       "  </thead>\n",
       "  <tbody>\n",
       "    <tr>\n",
       "      <th>1</th>\n",
       "      <td>46 avenue de Breteuil</td>\n",
       "      <td>Georges ABOILARI</td>\n",
       "      <td>48.8501</td>\n",
       "      <td>2.31147</td>\n",
       "    </tr>\n",
       "    <tr>\n",
       "      <th>2</th>\n",
       "      <td>181 rue de La Pompe</td>\n",
       "      <td>Paul ABZAC</td>\n",
       "      <td>48.871</td>\n",
       "      <td>2.28325</td>\n",
       "    </tr>\n",
       "    <tr>\n",
       "      <th>3</th>\n",
       "      <td>62 avenue de la Grande-Armée</td>\n",
       "      <td>ACHERY de SAS DONNINO</td>\n",
       "      <td>48.8769</td>\n",
       "      <td>2.2863</td>\n",
       "    </tr>\n",
       "    <tr>\n",
       "      <th>4</th>\n",
       "      <td>9 place des Etats- Unis</td>\n",
       "      <td>ACLOQLE SEBERT</td>\n",
       "      <td>48.8678</td>\n",
       "      <td>2.29397</td>\n",
       "    </tr>\n",
       "    <tr>\n",
       "      <th>7</th>\n",
       "      <td>47 bis rue Ampère</td>\n",
       "      <td>Hippolytel ADAM</td>\n",
       "      <td>48.8852</td>\n",
       "      <td>2.30681</td>\n",
       "    </tr>\n",
       "  </tbody>\n",
       "</table>\n",
       "</div>"
      ],
      "text/plain": [
       "                        Addresses                   Names latitude longitude\n",
       "1          46 avenue de Breteuil         Georges ABOILARI  48.8501   2.31147\n",
       "2            181 rue de La Pompe               Paul ABZAC   48.871   2.28325\n",
       "3   62 avenue de la Grande-Armée    ACHERY de SAS DONNINO  48.8769    2.2863\n",
       "4        9 place des Etats- Unis           ACLOQLE SEBERT  48.8678   2.29397\n",
       "7              47 bis rue Ampère          Hippolytel ADAM  48.8852   2.30681"
      ]
     },
     "execution_count": 21,
     "metadata": {},
     "output_type": "execute_result"
    }
   ],
   "source": [
    "final_1908.head()"
   ]
  },
  {
   "cell_type": "code",
   "execution_count": null,
   "metadata": {},
   "outputs": [],
   "source": [
    "final_1884.to_csv('data/final_1884.csv')\n",
    "final_1908.to_csv('data/final_1908.csv')"
   ]
  }
 ],
 "metadata": {
  "kernelspec": {
   "display_name": "Python 3",
   "language": "python",
   "name": "python3"
  },
  "language_info": {
   "codemirror_mode": {
    "name": "ipython",
    "version": 3
   },
   "file_extension": ".py",
   "mimetype": "text/x-python",
   "name": "python",
   "nbconvert_exporter": "python",
   "pygments_lexer": "ipython3",
   "version": "3.7.5"
  }
 },
 "nbformat": 4,
 "nbformat_minor": 4
}
